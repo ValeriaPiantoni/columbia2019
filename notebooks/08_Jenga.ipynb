{
 "cells": [
  {
   "cell_type": "markdown",
   "metadata": {},
   "source": [
    "<img src=https://github.com/computationaljournalism/columbia2019/raw/master/images/rectanguler-wooden-block-500x500.jpg>\n",
    "\n",
    "A little syntax\n",
    "----------------\n",
    "\n",
    "We start today with a little rudimentary work and then a much more open-ended session. The \"basics\" this time have to do with blocks of code, iteration and conditional evaluation. Skim this if you are feeling Python-powerful. Read more closely if you have been hanging on. \n",
    "\n",
    "**Blocks of code: Loops and conditional evaluation**\n",
    "\n",
    "A block of code is nothing more than a group of Python commands. Typically, this group hangs together because, when executed in sequence, they perform a single high-level task or a complete component of some task. Most modern programming languages have some kind of block structure. *Python identifies blocks through common indenttion.* This language requirement, forcing common indentation, also makes the code more readable. Remember, Guido wants code that can be shared, that can be read by others.\n",
    "\n",
    "![stack](http://www.python-course.eu/images/blocks.png)\n",
    "\n",
    "\"So, how does it work? All statements with the same distance to the right belong to the same block of code, i.e. the statements within a block line up vertically. The block ends at a line less indented or the end of \\[your notebooks' code cell\\]. If a block has to be more deeply nested, it is simply indented further to the right... There is another aspect of structuring in Python, which we haven't mentioned so far, which you can see in the example below. Loops and Conditional statements end with a colon \":\" - the same is true for functions and other structures introducing blocks. So, we should have said Python structures by colons and indentation.\" (Cribbed from the [Python Tutorial](http://www.python-course.eu/python3_blocks.php))\n",
    "\n",
    "**Conditional expressions**\n",
    "\n",
    "Blocks of code that are executed only if certain conditions apply are called \"conditional blocks\" and we'd like to document them formally here. In the cell below we have a simple example -- the code is indented to the same level (and the notebook helps you here) is all to be executed if the expression between the \"if\" and the colon \":\" is true. You can put any Boolean expression in here, including the operators like `and` and `or` and `not`. \n",
    "\n",
    "We'll use an example from the trending `#snowday`."
   ]
  },
  {
   "cell_type": "code",
   "execution_count": null,
   "metadata": {},
   "outputs": [],
   "source": [
    "%%HTML\n",
    "<blockquote class=\"twitter-tweet\" data-lang=\"en\"><p lang=\"en\" dir=\"ltr\">How much snow is outside your window? Tweet us your <a href=\"https://twitter.com/hashtag/snowstorm?src=hash&amp;ref_src=twsrc%5Etfw\">#snowstorm</a> photos and we’ll share them on CTV News at 5. <a href=\"https://twitter.com/hashtag/ottnews?src=hash&amp;ref_src=twsrc%5Etfw\">#ottnews</a> <a href=\"https://twitter.com/hashtag/snowday?src=hash&amp;ref_src=twsrc%5Etfw\">#snowday</a></p>&mdash; CTV Ottawa (@ctvottawa) <a href=\"https://twitter.com/ctvottawa/status/1095663232705089536?ref_src=twsrc%5Etfw\">February 13, 2019</a></blockquote>\n",
    "<script async src=\"https://platform.twitter.com/widgets.js\" charset=\"utf-8\"></script>"
   ]
  },
  {
   "cell_type": "code",
   "execution_count": null,
   "metadata": {},
   "outputs": [],
   "source": [
    "x = \"How much snow is outside your window?\"\n",
    "\n",
    "if \"snow\" in x:\n",
    "    x = x.replace(\"snow\",\"ice\")\n",
    "    x = x.upper()\n",
    "    print(x)"
   ]
  },
  {
   "cell_type": "markdown",
   "metadata": {},
   "source": [
    "Recall that the `\"snow\" in x` is a logical expression that is either `True` or `False`. Depending on which value is returned, the code in the block following the `if` statement is executed or not. "
   ]
  },
  {
   "cell_type": "code",
   "execution_count": null,
   "metadata": {},
   "outputs": [],
   "source": [
    "x = \"How much snow is outside your window?\"\n",
    "\n",
    "\"snow\" in x"
   ]
  },
  {
   "cell_type": "markdown",
   "metadata": {},
   "source": [
    "Things can get a bit more interesting in that you can branch off of an `if` statement. That is, you can take one action when the logical expression is `True` and one when it is `False`. Again, the alternative actions are represented as blocks of code."
   ]
  },
  {
   "cell_type": "code",
   "execution_count": null,
   "metadata": {},
   "outputs": [],
   "source": [
    "x = \"How much snow is outside your window?\"\n",
    "\n",
    "if \"snow\" in x:\n",
    "    x = x.replace(\"snow\",\"ice\")\n",
    "    x = x.upper()\n",
    "    print(x)\n",
    "else:\n",
    "    print(\"This is a lousy tweet about #snowday!\")"
   ]
  },
  {
   "cell_type": "markdown",
   "metadata": {},
   "source": [
    "Change `x` above to different strings and make sure it does what you think it should. Next, here is another example where we take one of two actions depending on whether the initial condition is `True` or `False`. There's a lot of indentation in this example, corresponding to **nested blocks** -- you only get to the `if` statement asking whether `x` is larger than 100, if `x` is larger than 25. Make sure you understand what is getting executed when."
   ]
  },
  {
   "cell_type": "code",
   "execution_count": null,
   "metadata": {},
   "outputs": [],
   "source": [
    "x = 300\n",
    "\n",
    "if x > 25:\n",
    "    print(x,\"is a big number.\")\n",
    "    if x>100:\n",
    "        print(\"Actually, it's a really big number\")\n",
    "else:\n",
    "    print(\"small number\")"
   ]
  },
  {
   "cell_type": "markdown",
   "metadata": {},
   "source": [
    "Again, change `x` to a few different values and make sure you understand what's happening. \n",
    "\n",
    "Finally, we can specify as many subconditions to an `if` statement as we like. That is, it's not just `if-else`, it's `if-elif-elif-...elif-else`. In the cell below, if `x` is larger than 100 we print out `\"really big\"`. On the other hand, if it's just bigger than 25 (between 25 and 100), we print out `\"big\"` and otherwise (`x` is less than or equal to 25) we call it `\"small\"`.  Change the values of `x` to make sure you know what this is doing. Try adding other conditions.\n",
    "\n",
    "Note that in this case, the subconditions are putting tighter constraints on the value of `x`. This is common."
   ]
  },
  {
   "cell_type": "code",
   "execution_count": null,
   "metadata": {},
   "outputs": [],
   "source": [
    "x = 7\n",
    "\n",
    "if x > 100:\n",
    "    print(\"really big\")\n",
    "elif x > 25:\n",
    "    print(\"big\")\n",
    "else:\n",
    "    print(\"small\")"
   ]
  },
  {
   "cell_type": "markdown",
   "metadata": {},
   "source": [
    "And just to be clear, the choice of the varible name `x` is arbitrary (and lazy). You can name the object anything you like."
   ]
  },
  {
   "cell_type": "code",
   "execution_count": null,
   "metadata": {},
   "outputs": [],
   "source": [
    "arnold = 7\n",
    "\n",
    "if arnold > 100:\n",
    "    print(\"really big\")\n",
    "elif arnold > 25:\n",
    "    print(\"big\")\n",
    "else:\n",
    "    print(\"small\")"
   ]
  },
  {
   "cell_type": "markdown",
   "metadata": {},
   "source": [
    "**Loops**\n",
    "\n",
    "Another common reason for using blocks is that we'd like to repeat the group of operations several times, with inputs that we specify. The `for` loop\" basically iterates over a list-like data set and executes the subsequent code block with each data point. \n",
    "\n",
    "For example, `range()` specifies a set of integers in, well, a given range. You can choose a start and an end and an increment. Technically, in Python 3, `range()` returns its own class of object. *Again, if you use something often enough, the designers of the language attempt to make things easier syntactically (how you write it) or more efficient (faster execution).*\n",
    "\n",
    "But, using `list()` we can create an actual list of integers from this `range` object. We don't have to do this to iterate over its content -- we are doing it just to look at the numbers `range()` returns."
   ]
  },
  {
   "cell_type": "code",
   "execution_count": null,
   "metadata": {},
   "outputs": [],
   "source": [
    "type(range(10))"
   ]
  },
  {
   "cell_type": "code",
   "execution_count": null,
   "metadata": {},
   "outputs": [],
   "source": [
    "# from 0 up to but not including 10\n",
    "list(range(10))"
   ]
  },
  {
   "cell_type": "code",
   "execution_count": null,
   "metadata": {},
   "outputs": [],
   "source": [
    "# from 5 up to but not including 20\n",
    "list(range(5,20))"
   ]
  },
  {
   "cell_type": "code",
   "execution_count": null,
   "metadata": {},
   "outputs": [],
   "source": [
    "# from 100 up to but not including 2000 in steps of 200\n",
    "list(range(100,2000,200))"
   ]
  },
  {
   "cell_type": "markdown",
   "metadata": {},
   "source": [
    "Again, using `range()` we essentially get a list of integers that run from the start value, up to but not including the end value, in steps of the increment.\n",
    "\n",
    "The simplest `for` loop just iterates over an object like `range`. In the cell below, have our source data as `range(10)` or the integers from 0 through 9. The loop proceeds by successively assigning the variable `i` to each element of the list of integers. First, `i` stands for the number  0, then `i` is 1 then `i` is 2 and so on up until 9. **With each new value, we execute the code in the block**, here just the single line that prints the value of `i`.\n",
    "\n",
    "Because it is a variable name, `i` could have been any name. `pineapple` or `sheep` or `diet_coke` would all work if you substituted every occurence of the name `i` with your new choice."
   ]
  },
  {
   "cell_type": "code",
   "execution_count": null,
   "metadata": {},
   "outputs": [],
   "source": [
    "for i in range(10):\n",
    "    print(i)"
   ]
  },
  {
   "cell_type": "markdown",
   "metadata": {},
   "source": [
    "Next we run through the integers 1 though 10 and test if the number is odd or not, printing one thing if it is and another if it's even. Notice that again we have **nested blocks**. The print conditional block is nested in the looping block. We also have a new operator here `%` -- `a%b` returns the remainder of the division of `a` by `b`. (And so an even number has 0 remainder after division by 2)."
   ]
  },
  {
   "cell_type": "code",
   "execution_count": null,
   "metadata": {},
   "outputs": [],
   "source": [
    "print(3%2)\n",
    "print(20%2)"
   ]
  },
  {
   "cell_type": "code",
   "execution_count": null,
   "metadata": {},
   "outputs": [],
   "source": [
    "print(30%5)\n",
    "print(24%5)"
   ]
  },
  {
   "cell_type": "markdown",
   "metadata": {},
   "source": [
    "OK let's put this to work"
   ]
  },
  {
   "cell_type": "code",
   "execution_count": null,
   "metadata": {},
   "outputs": [],
   "source": [
    "for i in range(1,11):\n",
    "    \n",
    "    if i % 2 == 0:\n",
    "        print(i,\"is an even number\")\n",
    "        \n",
    "    else:\n",
    "        print(i, \"is an odd number\")"
   ]
  },
  {
   "cell_type": "markdown",
   "metadata": {},
   "source": [
    "So all of this is a little boring but it's a good start. You can iterate over lots of different kinds of things, chiefly lists. Remember, they store data in order so the loop below assigns each name from the list `students` successively to the variable name `s`. It then carries that value into the loop block and creates a slightly lame sentence with the indicated name. So we start with `s` being \"Yaling\" and end with `s` being \"Ethan.\""
   ]
  },
  {
   "cell_type": "code",
   "execution_count": null,
   "metadata": {},
   "outputs": [],
   "source": [
    "students = [\"Yaling\",\"Sophia\",\"Alex\",\"Erin\",\"Ellen\",\"Isabelle\",\"Ethan\"]\n",
    "\n",
    "for student in students:\n",
    "    \n",
    "    drill = student + \" is learning about code blocks.\"\n",
    "    print(drill)\n",
    "    print(\"---\")"
   ]
  },
  {
   "cell_type": "code",
   "execution_count": null,
   "metadata": {},
   "outputs": [],
   "source": [
    "students = [\"Yaling\",\"Sophia\",\"Alex\",\"Erin\",\"Ellen\",\"Isabelle\",\"Ethan\"]\n",
    "\n",
    "for student in students:\n",
    "    \n",
    "    drill = student + \" is learning about code blocks.\"\n",
    "\n",
    "    if len(student) % 2 == 0:\n",
    "        drill = drill + \" Their name has an even number of letters.\"\n",
    "    else:\n",
    "        drill = drill + \" Their name has an odd number of letters.\"\n",
    "\n",
    "    print(drill)\n",
    "    print(\"---\")\n",
    "\n",
    "print(\"And that's it!\")"
   ]
  },
  {
   "cell_type": "markdown",
   "metadata": {},
   "source": [
    "Again, `student` is the name of a variable and is arbitrary -- we could have used anything. Replace `student` with the letter `s` or the word `lightbulb`. \n",
    "\n",
    "Before we finish iteration, there is one other kind of construction that loops. The `while` loop will continue executing until some condition is satisfied. For example, you might want to run through a list of sentences and print out the first that is less than 280 charaters, or one that contains the word \"snow\". \n",
    "\n",
    "Below we will use the command `sample()` from the `random` package. The package contains a number of tools for generating random variables. For example, `sample()` -- as its name might suggest -- takes a list as an argument and, in computer style, puts the contents of the list into a hat and pulls out some number of the elements at random, a number you specify. Here we take 3 from the list of integers from 0 to 9, or we take two student names from the list of students. \n",
    "\n",
    "Execute this code several times to make sure you see what it's doing."
   ]
  },
  {
   "cell_type": "code",
   "execution_count": null,
   "metadata": {},
   "outputs": [],
   "source": [
    "from random import sample\n",
    "\n",
    "# 3 draws from the collection 0,...,9\n",
    "print(sample(range(10),3))\n",
    "\n",
    "# 2 draws from our list of students\n",
    "print(sample(students,2))"
   ]
  },
  {
   "cell_type": "markdown",
   "metadata": {},
   "source": [
    "Notice that `sample()` returns a list. So if we ask for 1 randomly selected element, we will get a list with one element. Often we don't want a list with one element, but we want the student name, say, that we selected. You can do this with the following command (where the square braces ask for the entry with index 0, the first and only element in the list)."
   ]
  },
  {
   "cell_type": "code",
   "execution_count": null,
   "metadata": {},
   "outputs": [],
   "source": [
    "# 1 randomly selected student name\n",
    "student = sample(students,1)\n",
    "print(student)\n",
    "\n",
    "# 1 randomly selected student name, but a string\n",
    "print(student[0])"
   ]
  },
  {
   "cell_type": "markdown",
   "metadata": {},
   "source": [
    "We can do this in one line too. Here we select a single item from the list [\"H\",\"T\"]. It's like a 50-50 coin toss everytime you execute the code below. Each time you run it, Python puts the \"T\" and \"H\" in a hat, mixes it up and selects one. Try it a few times!"
   ]
  },
  {
   "cell_type": "code",
   "execution_count": null,
   "metadata": {},
   "outputs": [],
   "source": [
    "sample([\"H\",\"T\"],1)[0]"
   ]
  },
  {
   "cell_type": "markdown",
   "metadata": {},
   "source": [
    "Below we will use the command `sample()` from the `random` package to pick either \"H\" or \"T\" with 50% chance for each and print out how many \"coin tosses\" it took to get the first \"H\". We will use the counter `count` (again an arbitrary name, but  which we start as 0) and increment it each time we toss something other than a \"H\". \n",
    "\n",
    "The code starts with a flip. If it was \"H\", then we never execute the `while` loop. If it was tails, \"T\", we go into the loop and keep flipping until we get a \"H\". Got it? Execute this a few times and make sure you understand what it's doing."
   ]
  },
  {
   "cell_type": "code",
   "execution_count": null,
   "metadata": {},
   "outputs": [],
   "source": [
    "flip = sample([\"H\",\"T\"],1)[0]\n",
    "print(flip)\n",
    "count = 1\n",
    "\n",
    "while flip == \"T\":\n",
    "    flip = sample([\"H\",\"T\"],1)[0]\n",
    "    print(flip)\n",
    "    count = count + 1\n",
    "    \n",
    "print(\"--->\", count, \"flip(s)\")"
   ]
  },
  {
   "cell_type": "markdown",
   "metadata": {},
   "source": [
    "**Putting this into action (enough with the coin flipping!)**\n",
    "\n",
    "We've used loops before when looking at the list-like objects returned by calls from Tweepy to the Twitter API. Let's gear up and do that again. It will give us an opportunity to learn a bit more about Tweepy and introduce a new general kind of iteration in Python -- the list comprehension.\n",
    "\n",
    "First, fire up your Twitter API."
   ]
  },
  {
   "cell_type": "code",
   "execution_count": null,
   "metadata": {},
   "outputs": [],
   "source": [
    "# grab your keys from a previous notebook or https://apps.twitter.com\n",
    "\n",
    "CONSUMER_KEY = \"\"\n",
    "CONSUMER_SECRET = \"\"\n",
    "ACCESS_TOKEN = \"\"\n",
    "ACCESS_TOKEN_SECRET = \"\""
   ]
  },
  {
   "cell_type": "code",
   "execution_count": null,
   "metadata": {},
   "outputs": [],
   "source": [
    "# before we can make Twitter API calls, we need to initialize a few things...\n",
    "from tweepy import OAuthHandler, API\n",
    "\n",
    "# setup the authentication\n",
    "auth = OAuthHandler(CONSUMER_KEY, CONSUMER_SECRET)\n",
    "auth.set_access_token(ACCESS_TOKEN, ACCESS_TOKEN_SECRET)\n",
    "\n",
    "# create an object we will use to communicate with the Twitter API\n",
    "api = API(auth,wait_on_rate_limit=True,wait_on_rate_limit_notify=True)"
   ]
  },
  {
   "cell_type": "markdown",
   "metadata": {},
   "source": [
    "Now, recalling the Tweepy documentation, we can find our own followers (or the followers of other accounts if we specify an account name) by simply using the method `.followers()`. Here we get a list-like object where each element represents the details of a follower. Here we look at the `.json` object returned by Tweepy first to get a better sense of what it contains. \n",
    "\n",
    "(This information is available in the Twitter API description as well -- all Tweepy is doing is grabbing the JSON string from Twitter and turning it into a Python dictionary.)"
   ]
  },
  {
   "cell_type": "code",
   "execution_count": null,
   "metadata": {},
   "outputs": [],
   "source": [
    "followers = api.followers()\n",
    "\n",
    "print(type(followers))\n",
    "print(len(followers))"
   ]
  },
  {
   "cell_type": "code",
   "execution_count": null,
   "metadata": {},
   "outputs": [],
   "source": [
    "followers[0]._json"
   ]
  },
  {
   "cell_type": "markdown",
   "metadata": {},
   "source": [
    "What's the one piece of data that seems to be missing here that would be super valuable to know?\n",
    "\n",
    "Recall that Tweepy makes all this easy to access through their objects. In this case, they encapsulate the results from the API call into an object, where each element in `followers` is of type `User`. We can access the data (as we do for any object) with the `.` or dot notation. So this means we can either use the `.json` representation of our followers as Python lists and dictionaries or we can use the Tweepy object."
   ]
  },
  {
   "cell_type": "code",
   "execution_count": null,
   "metadata": {},
   "outputs": [],
   "source": [
    "type(followers[0])"
   ]
  },
  {
   "cell_type": "markdown",
   "metadata": {},
   "source": [
    "Let's iterate!"
   ]
  },
  {
   "cell_type": "code",
   "execution_count": null,
   "metadata": {},
   "outputs": [],
   "source": [
    "for f in followers:\n",
    "    print(f.followers_count,f.screen_name)"
   ]
  },
  {
   "cell_type": "markdown",
   "metadata": {},
   "source": [
    "**List comprehensions**\n",
    "\n",
    "Mike loves loops. 😍*It's almost pathological.* Mark finds loops hard to read, even with Python's graceful indentation. There are other forms of iteration that are worth commenting on, both of which Mark believes are more elegant than loops. Suppose, for example, I wanted to create a list of the follower counts of the people who follow me. I could loop over the `followers` result set, extract from each account their `.followers_count` one at a time, and build a new list. \n",
    "\n",
    "*Or, perhaps I can store them in a list more directly.* In walks list comprehensions. Have a gander."
   ]
  },
  {
   "cell_type": "code",
   "execution_count": null,
   "metadata": {},
   "outputs": [],
   "source": [
    "counts1 = [f.followers_count for f in followers]\n",
    "counts1"
   ]
  },
  {
   "cell_type": "markdown",
   "metadata": {},
   "source": [
    "And now we can maybe compute some summary statistics."
   ]
  },
  {
   "cell_type": "code",
   "execution_count": null,
   "metadata": {},
   "outputs": [],
   "source": [
    "from statistics import mean, median\n",
    "\n",
    "print(mean(counts1))\n",
    "print(median(counts1))"
   ]
  },
  {
   "cell_type": "markdown",
   "metadata": {},
   "source": [
    "Or we can create a list of follower names..."
   ]
  },
  {
   "cell_type": "code",
   "execution_count": null,
   "metadata": {},
   "outputs": [],
   "source": [
    "who = [f.screen_name for f in followers]\n",
    "who"
   ]
  },
  {
   "cell_type": "markdown",
   "metadata": {},
   "source": [
    "I can also add a conditional statement, choosing which elements to include and which to drop."
   ]
  },
  {
   "cell_type": "code",
   "execution_count": null,
   "metadata": {},
   "outputs": [],
   "source": [
    "# make a list of just the names that contain the letter \"a\"\n",
    "[name for name in who if \"a\" in name]"
   ]
  },
  {
   "cell_type": "code",
   "execution_count": null,
   "metadata": {},
   "outputs": [],
   "source": [
    "# make a list of just the counts that are larger than 1000\n",
    "[n for n in counts if n > 1000]"
   ]
  },
  {
   "cell_type": "markdown",
   "metadata": {},
   "source": [
    "Now, going back to our original lists `counts1` and `who`, we'll add a `counts2` that gives us the `.friends_count` for each of our followers and then we'll bundle everything up into a data frame, making a dictionary of lists. \n",
    "\n",
    "I know. It's awesome."
   ]
  },
  {
   "cell_type": "code",
   "execution_count": null,
   "metadata": {},
   "outputs": [],
   "source": [
    "counts2 = [f.friends_count for f in followers]"
   ]
  },
  {
   "cell_type": "code",
   "execution_count": null,
   "metadata": {},
   "outputs": [],
   "source": [
    "from pandas import DataFrame\n",
    "\n",
    "# now make a data frame from a dictionary of lists\n",
    "df = DataFrame({\"screen_name\":who,\"followers\":counts1,\"friends\":counts2})\n",
    "\n",
    "df"
   ]
  },
  {
   "cell_type": "markdown",
   "metadata": {},
   "source": [
    "<img src=https://c1.staticflickr.com/2/1710/23872688022_5bee85a7fe_b.jpg width=500>\n",
    "\n",
    "One last form of iteration. This one implicit. DataFrames implement a kind of iteration, allowing for element-wise computations. So, in one form of bot detection, we look for accounts that follow many more people than they have following them. That is, the `\"friends\"` to `\"followers\"` ratio is large. In short, it's easier to follow people than it is to get them to follow you. \n",
    "\n",
    "We *could* loop along the elements in our two lists or the two columns of the data frame and compute the ratio. Or we could just do the following using our data frame."
   ]
  },
  {
   "cell_type": "code",
   "execution_count": null,
   "metadata": {},
   "outputs": [],
   "source": [
    "df[\"friends\"]/df[\"followers\"]"
   ]
  },
  {
   "cell_type": "markdown",
   "metadata": {},
   "source": [
    "Ha! Loops happened but no intermediate variables were harmed in their construction. The whole thing was handled implicitly. Again, rowwise operations are common enough that they should be simple to specify. Hence, Pandas.\n",
    "\n",
    "We can also store the result in a new column called `\"ratio\"`..."
   ]
  },
  {
   "cell_type": "code",
   "execution_count": null,
   "metadata": {},
   "outputs": [],
   "source": [
    "df[\"ratio\"] = df[\"friends\"]/df[\"followers\"]\n",
    "\n",
    "df"
   ]
  },
  {
   "cell_type": "markdown",
   "metadata": {},
   "source": [
    "... and maybe sort the whole thing by this ratio, highlighting the most lopsided accounts."
   ]
  },
  {
   "cell_type": "code",
   "execution_count": null,
   "metadata": {},
   "outputs": [],
   "source": [
    "df.sort_values(\"ratio\",ascending=False)"
   ]
  },
  {
   "cell_type": "markdown",
   "metadata": {},
   "source": [
    "`badc0fee` looks a little suspect. [Have a look at his (its?) Twitter account](http://twitter.com/badc0fee). That's a lot of likes in two years! Let's pull some of this account's tweets. Via Tweepy, this means `.user_timeline()`."
   ]
  },
  {
   "cell_type": "code",
   "execution_count": null,
   "metadata": {},
   "outputs": [],
   "source": [
    "recents = api.user_timeline(\"badc0fee\")\n",
    "\n",
    "print(len(recents))\n",
    "print(type(recents[0]))"
   ]
  },
  {
   "cell_type": "markdown",
   "metadata": {},
   "source": [
    "This gives us a list of 20 statuses -- their last 20 tweets. Have a look again at what this object represents in terms of the raw response data from Twitter."
   ]
  },
  {
   "cell_type": "code",
   "execution_count": null,
   "metadata": {},
   "outputs": [],
   "source": [
    "recents[0]._json"
   ]
  },
  {
   "cell_type": "markdown",
   "metadata": {},
   "source": [
    "We can get a sense of their tweeting frequency by looking at just the times each tweet was `created_at`. "
   ]
  },
  {
   "cell_type": "code",
   "execution_count": null,
   "metadata": {},
   "outputs": [],
   "source": [
    "times = [t.created_at for t in recents]\n",
    "\n",
    "times"
   ]
  },
  {
   "cell_type": "markdown",
   "metadata": {},
   "source": [
    "And OK if we have to satisfy Mike 😍, we can create a loop to see how much time elapsed between each tweet. Recall the tweets are in reverse chronological order with the newest coming first. So the time between the most recent tweet aand the second most recent tweet is `times[0]-times[1]`. \n",
    "\n",
    "Let's see how much time passes betwee tweets..."
   ]
  },
  {
   "cell_type": "code",
   "execution_count": null,
   "metadata": {},
   "outputs": [],
   "source": [
    "for i in range(1,len(times)):\n",
    "    print(times[i-1]-times[i])"
   ]
  },
  {
   "cell_type": "markdown",
   "metadata": {},
   "source": [
    "Busy busy. \n",
    "\n",
    "**Scaling up Tweepy**\n",
    "\n",
    "Last time we fumbled slightly trying to do a search that returned more than 15 tweets. My bad. Today we'll fix that. We are going to use something in Tweepy called a `Cursor`. It is a construction that will make multiple requests for you and keep track of where you are. By that I mean, the Twitter API only allows so many tweets or users or trends to be returned by each request. The `Cursor` will keep track of how many you have been delivered so far and keep making requests until the total number you want is satisfied. \n",
    "\n",
    "Now, if you ask for too many, you will start to hit rate limits (the number of requests you can make with your API keys in 15 minute windows) and it will sleep for a while. Just so we get all the additions to our Tweepy setup in one place, let's remake our `api` object. "
   ]
  },
  {
   "cell_type": "code",
   "execution_count": null,
   "metadata": {},
   "outputs": [],
   "source": [
    "# before we can make Twitter API calls, we need to initialize a few things...\n",
    "from tweepy import OAuthHandler, API, Cursor\n",
    "\n",
    "# setup the authentication\n",
    "auth = OAuthHandler(CONSUMER_KEY, CONSUMER_SECRET)\n",
    "auth.set_access_token(ACCESS_TOKEN, ACCESS_TOKEN_SECRET)\n",
    "\n",
    "# create an object we will use to communicate with the Twitter API \n",
    "# we have added two arguments that will have the program \"wait\" if you ask for\n",
    "# too many things in a 15 minute window\n",
    "api = API(auth,wait_on_rate_limit=True,wait_on_rate_limit_notify=True)"
   ]
  },
  {
   "cell_type": "markdown",
   "metadata": {},
   "source": [
    "Let's now get the last 500 tweets from `badc0fee`."
   ]
  },
  {
   "cell_type": "code",
   "execution_count": null,
   "metadata": {},
   "outputs": [],
   "source": [
    "bad_tweets = [status for status in Cursor(api.user_timeline, screen_name=\"badc0fee\").items(500)]\n",
    "len(bad_tweets)"
   ]
  },
  {
   "cell_type": "code",
   "execution_count": null,
   "metadata": {},
   "outputs": [],
   "source": [
    "times = [t.created_at for t in bad_tweets]\n",
    "texts = [t.text for t in bad_tweets]\n",
    "\n",
    "df = DataFrame({\"time\":times,\"text\":texts})\n",
    "df"
   ]
  },
  {
   "cell_type": "markdown",
   "metadata": {},
   "source": [
    "Now, sort the data so the oldest tweets come first and work up to the newest. Then use the method `.diff()` to compute the differences in times..."
   ]
  },
  {
   "cell_type": "code",
   "execution_count": null,
   "metadata": {},
   "outputs": [],
   "source": [
    "df = df.sort_values(\"time\")\n",
    "df[\"time\"].diff()"
   ]
  },
  {
   "cell_type": "code",
   "execution_count": null,
   "metadata": {},
   "outputs": [],
   "source": [
    "df[\"time\"].diff().median()"
   ]
  },
  {
   "cell_type": "markdown",
   "metadata": {},
   "source": [
    "Just about a minute between each tweet. Busy busy. \n",
    "\n",
    "The `Cursor` object will also let you search and perform other operations from the API, taking care of all your rate limiting etc and letting you focus on just the total number of objects you need. Trending in NYC today was the upsetting arrest of Maria Ressa. We can see the last 1000 tweets on this topic. Notice that the call to `Cursor` involves the `api` function you want and then any arguments you want to pass it. The `.items()` method tells the `Cursor` how many objects you're after. If you leave it empty it will go until the list is exhausted."
   ]
  },
  {
   "cell_type": "code",
   "execution_count": null,
   "metadata": {},
   "outputs": [],
   "source": [
    "searched_tweets = [status for status in Cursor(api.search, q=\"Maria%20Ressa\").items(1000)]"
   ]
  },
  {
   "cell_type": "markdown",
   "metadata": {},
   "source": [
    "Now we have a list of recent tweets. We can loop over them..."
   ]
  },
  {
   "cell_type": "code",
   "execution_count": null,
   "metadata": {},
   "outputs": [],
   "source": [
    "for tweet in searched_tweets[:10]:\n",
    "    print(tweet.text)\n",
    "    print(\"===\")"
   ]
  },
  {
   "cell_type": "markdown",
   "metadata": {},
   "source": [
    "... or create a data frame..."
   ]
  },
  {
   "cell_type": "code",
   "execution_count": null,
   "metadata": {},
   "outputs": [],
   "source": [
    "times = [t.created_at for t in searched_tweets]\n",
    "texts = [t.text for t in searched_tweets]\n",
    "users = [t.user.screen_name for t in searched_tweets]\n",
    "\n",
    "df = DataFrame({\"time\":times,\"user\":users,\"text\":texts})\n",
    "df"
   ]
  },
  {
   "cell_type": "markdown",
   "metadata": {},
   "source": [
    "... and use basic Pandas functionality to see who is involved in the conversation. You can also examine retweets, who's mentioned and so on."
   ]
  },
  {
   "cell_type": "code",
   "execution_count": null,
   "metadata": {},
   "outputs": [],
   "source": [
    "df[\"user\"].value_counts()"
   ]
  },
  {
   "cell_type": "markdown",
   "metadata": {},
   "source": [
    "Loops, list comprehensions, rowwise operations... these are all methods to repeat operations. Your code will often be a mix of each and there is no right way to do things. Just make sure your code is readable and don't choose a loop over some unnatural attraction 😍.\n",
    "\n",
    "**Next, your turn**\n",
    "\n",
    "You now have a TON of tools at your disposal and it's time to start thinking like reporters again. You have trends from during the State of the Union. You have the capacity to search tweets, to pull people's timelines, to identify their followers. Let's tell a story about conversation happening on Twitter. Or let's look at a particular person like `badc0fee` and see what they are up to. \n",
    "\n",
    "Go! (Or reinforce your iteration knowledge [with this video](https://www.flocabulary.com/unit/coding-for-loops/) and then, go!"
   ]
  }
 ],
 "metadata": {
  "kernelspec": {
   "display_name": "Python 3",
   "language": "python",
   "name": "python3"
  },
  "language_info": {
   "codemirror_mode": {
    "name": "ipython",
    "version": 3
   },
   "file_extension": ".py",
   "mimetype": "text/x-python",
   "name": "python",
   "nbconvert_exporter": "python",
   "pygments_lexer": "ipython3",
   "version": "3.7.1"
  }
 },
 "nbformat": 4,
 "nbformat_minor": 2
}
