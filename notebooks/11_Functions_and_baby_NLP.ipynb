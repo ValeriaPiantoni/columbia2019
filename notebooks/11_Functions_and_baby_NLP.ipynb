{
 "cells": [
  {
   "cell_type": "markdown",
   "metadata": {},
   "source": [
    "The Coming Age of Conversational Bots\n",
    "--------------------------------------\n",
    "<hr>\n",
    "<img src=\"https://cdn-images-1.medium.com/max/1000/1*-uuhR1UX709LfUnDiS30Rg.png\"  style=\"width: 65%;\"/>\n",
    "<br>\n",
    "\n",
    "We start with the modern chatbot. FastCompany  published a nice history of  a particular kind of software robot: [How The New, Improved Chatbots Rewrite 50 Years Of Bot History](http://www.fastcompany.com/3059439/why-the-new-chatbot-invasion-is-so-different-from-its-predecessors). Chatbots are really a conversation-based interfaces to services of various kinds. Sometimes the logic behind their inner workings is incredibly complex, but other times their operation is very service-oriented and shallow. Sometimes they are reading from a script, sometimes machine learning helps direct responses.\n",
    "\n",
    "The FastCompany article makes the point that while strands of artificial intelligence research has been obsessed with making a both that was believably human (or perhaps with the potential for one), the latest incarnations of these programs exist \"to help you get things done.\" They have grown plentiful using the scale of new platforms (Facebook, Twitter, and so on) and are fit tidily into their business interests.\n",
    "\n",
    "Here's a snippet.\n",
    "\n",
    ">But over the past few years, chatbots have made a comeback. With advancements in processing power, bots now have a better ability to interpret natural language and learn from users over time. Just as importantly, big companies like Facebook, Apple, and Microsoft are now eager to host our interactions with various services, and offer tools for developers to make those services available. Chatbots easily fit into their larger business models of advertising, e-commerce, online services, and device sales. Meanwhile, services that want to reach hundreds of millions of customers on a platform like Messenger will be helping to write the chat scripts.\n",
    "<br><br>\"A lot of the things that were barriers to us back then are no longer barriers to us today because of the evolution of the way technology works,\" Hoffer says.\n",
    "<br><br>\n",
    "Crucially, these bots are meant to be useful out of the gate, ... they no longer need conversation as a crutch for mass adoption. Sure, Apple’s Siri knows how to break the ice with a few jokes, but it largely exists to help you get things done. Rival assistants from Google and Amazon don’t exhibit much personality at all. Utility is winning out because the technology allows for it.\n",
    "\n",
    "The article ends with a comment about early artificial intelligence researcher Joseph Weizenbaum. Weizenbaum created something called ELIZA, a computer program that was modeled after a psychiatrist (or an \"active listener\"). \n",
    "\n",
    ">If the latest round of chatbots succeed, they might prove that Weizenbaum, the creator of ELIZA, was right all along. These machines are not warm and cuddly replacements for the human intellect. They’re just another set of tools—an evolution of the apps that have served us for years.\n",
    "\n",
    "As an aside, Weizenbaum didn't create ELIZA as a state of the art conversational program. He was, in fact, troubled by its positive reception, and later in life he wrote about the limits of artificial intelligence. The passage below is from his 1976 text [Computer power and human reason](https://en.wikipedia.org/wiki/Computer_Power_and_Human_Reason). He closes the third chapter with this image.\n",
    "\n",
    ">Sometimes when my children were still little, my wife and I would stand over them as they lay sleeping in their beds. We spoke to each other only in silence, rehearsing a scene as old as mankind itself. It is as Ionesco told his journal: ‘Not everything is unsayable in words, only the living truth.\n",
    "\n",
    "Beautiful, right? For a data class, it's a great reminder that data will always exist at distance from lived experience. We can try to pile more and more data on a given situation or phenomenon. But no matter how big our data gets, we are still missing something. That's why we've been stressing how your choice of data is a creative act.\n",
    "\n",
    "Before we startup ELIZA, our dear friend Suman has listed out a number of identifiable elements to think about when you are designing a conversation. Again, not all of these will apply as we might be very functionally-oriented, but they are something to remember.\n",
    "\n",
    "#### Some Identifiable Elements of Conversation:\n",
    "\n",
    "| Element of Conversation | Possible Techniques to Compute/ Quantify |\n",
    "| ------ | ----------- |\n",
    "|1. Notifications/ Recalling relevant things   |  Time Series Analysis, Alerting, Keyword caches |\n",
    "|2. Learning topics in context | Topic Mining/Modeling - extract the topic from the words in text |\n",
    "|3. Understanding Social Networks (offline and online)  | Network Science, the study of the structure of how things are connected and how information flows through it |\n",
    "|4. Responding to Emotion  | Sentiment Analysis\n",
    "|5. Having Episodic Memory  | Some kind of graphical model, [see Aditi's data post](https://medium.com/@aditinair/episodic-memory-modeling-for-conversational-agents-7c82e25b06b4#.9k65cziqw). |\n",
    "|6. Portraying Personality  | Decision Tree, which is a tree-like graph or model of decisions and their possible consequences, including chance event outcomes, resource costs, and utility. |"
   ]
  },
  {
   "cell_type": "markdown",
   "metadata": {},
   "source": [
    "### Functions\n",
    "\n",
    "So far, we have made a lot of use of the cell structure of your notebooks. We've tried to organize things so that each cell or maybe each \"chapter\" of a notebook accomplishes some task. And we have been encouraging you to make changes to the parameters (chaging file names, or picking different numbers) and reuse the code. In short the notebook has let you repeat analysis by creating chunks of text that you can use again on different data. \n",
    "\n",
    "But this is a little clunky. It's great when you are learning, but it's not the way Python developers think. The main technique to share code is via Python's package mechanism. We have seen packages like Tweepy and Pandas. The creators of each have provided us with new kinds of objects to accomplish new tasks, from making requests for data on the web to working with tabular data. These objects extend Python's basic functionality and is probably the key to its longevity and broad adoption. \n",
    "\n",
    "Packages consist of simple data, objects and a category of thing we have used but not named -- *functions.* When we use `read_csv()` we are invoking a function that takes as *input* a file name or URL and *returns as output* a DataFrame. When we use `search()` from the package `re`, we are calling a function that takes as *input* a string and a pattern (in the form of a regular expression) and *returns* a match object, telling us whether the pattern was found or not. \n",
    "\n",
    "Functions are basically blocks of code that we will want to use repeatedly. Remember, Python structures blocks of code using indentation. Below is a simple function -- it basically adds 2 to whatever you pass it. \n",
    "\n",
    "*Baby steps!* 👣"
   ]
  },
  {
   "cell_type": "code",
   "execution_count": null,
   "metadata": {},
   "outputs": [],
   "source": [
    "def addtwo(x):\n",
    "    \"This function adds two to a number.\"\n",
    "    return(x+2)\n",
    "\n",
    "addtwo(3)"
   ]
  },
  {
   "cell_type": "markdown",
   "metadata": {},
   "source": [
    "The function `addtwo()` consists of two lines, both indented to the same level. That means they are read as part of the \"body\" of the function. The first line is just a bare string and is a description of what the function does. If you were to ask for help about the function, you will get this string."
   ]
  },
  {
   "cell_type": "code",
   "execution_count": null,
   "metadata": {},
   "outputs": [],
   "source": [
    "help(addtwo)"
   ]
  },
  {
   "cell_type": "markdown",
   "metadata": {},
   "source": [
    "The second line of the function involves a call to `return()`. This is the mechanism we use to exit the function and, well, return a value. That value can, in turn, be assigned a name and used in other calculations."
   ]
  },
  {
   "cell_type": "code",
   "execution_count": null,
   "metadata": {},
   "outputs": [],
   "source": [
    "y = addtwo(5)\n",
    "y*10+3"
   ]
  },
  {
   "cell_type": "markdown",
   "metadata": {},
   "source": [
    "Finally, the *parameter* `x` is assigned a value when the function is called. So `addtwo(3)` would assign x the value of 3, while `addtwo(20)` would assign `x` the value of 20. Let's make things a little more interesting. We are going to first write functions for our bots so let's make a slightly more conversational function. In this case we pass two parameters.\n",
    "\n",
    "We use the `.format()` method of a string to insert content. The method takes a series of strings as arguments and we add `{0}`, `{1}` and so on to indicate where to place the first, second, etc. argument indifr the string.\n",
    "\n",
    "Here we take a person's name and their Twitter ID and return a string assessing their status. It's a little snarky for no good reason."
   ]
  },
  {
   "cell_type": "code",
   "execution_count": null,
   "metadata": {},
   "outputs": [],
   "source": [
    "def judgey(name,ID):\n",
    "    \n",
    "    \"This function evaluates your twitter ID\"\n",
    "\n",
    "    if ID < 20000:\n",
    "        return(\"Wow {0}, you are an early adopter!\".format(name))\n",
    "    elif ID < 20000000:\n",
    "        return(\"OK {0}, you are sorta hip\".format(name))\n",
    "    else:\n",
    "        return(\"Meh {0}.\".format(name))"
   ]
  },
  {
   "cell_type": "markdown",
   "metadata": {},
   "source": [
    "To unpack this a little, the formatting we are using here for the strings is a little new. We are passing the string contained in `name` to the `format()` method of a string. That will insert, in this case, the string held in `name` for the symbol `{0}`. Here's how it works."
   ]
  },
  {
   "cell_type": "code",
   "execution_count": null,
   "metadata": {},
   "outputs": [],
   "source": [
    "greeting = \"Hello\"\n",
    "\"{0} class.\".format(greeting)"
   ]
  },
  {
   "cell_type": "markdown",
   "metadata": {},
   "source": [
    "The reason we have `{0}` is that we can have as many numbered insertions as we like. Here we add strings to the beginning and end of the string."
   ]
  },
  {
   "cell_type": "code",
   "execution_count": null,
   "metadata": {},
   "outputs": [],
   "source": [
    "greeting = \"Hello\"\n",
    "mood = \"!\"\n",
    "\"{0} class{1}\".format(greeting,mood)"
   ]
  },
  {
   "cell_type": "markdown",
   "metadata": {},
   "source": [
    "There's more to say about formatting strings, but don't confuse the notation with defining a dictionary. This, like regular expressions, is a kind of mini-specification that shares some of the same symbols but doesn't mean the same thing as what we've seen before. Just keep clear what you're doing and the notation will make sense.\n",
    "\n",
    "Now that we've made a function with more than one variable, we can call it in a number of ways. The variations come from the way we associate values we are passing to parameters in the function. The simplest way to call a function is to simply assign values by position -- values are copied to their corresponding parameters in order.\n",
    "<br><br>\n",
    "&nbsp;&nbsp;&nbsp;&nbsp;&nbsp;&nbsp;`judgey(\"Mike\",2671)`\n",
    "<br><br>\n",
    "In this way, `name` becomes `\"Mike\"` and `ID` becomes `2671`. A downside of positional arguments is that you have to remember the meaning of each position. To avoid that confustion, you can instead specify arguments by the names of their corresponding parameters. These represent the same call to `judgey()` as that above.\n",
    "<br><br>\n",
    "&nbsp;&nbsp;&nbsp;&nbsp;&nbsp;&nbsp;`judgey(name=\"Mike\",ID=2671)`\n",
    "<br><br>\n",
    "&nbsp;&nbsp;&nbsp;&nbsp;&nbsp;&nbsp;`judgey(ID=2671,name=\"Mike\")`"
   ]
  },
  {
   "cell_type": "code",
   "execution_count": null,
   "metadata": {},
   "outputs": [],
   "source": [
    "judgey(\"Mike\",2671)"
   ]
  },
  {
   "cell_type": "code",
   "execution_count": null,
   "metadata": {},
   "outputs": [],
   "source": [
    "judgey(\"Emily\",1489691)"
   ]
  },
  {
   "cell_type": "markdown",
   "metadata": {},
   "source": [
    "Finally, in defining a function, we might have reasonable *default* values for certain parameters. These we define with the function specification and then the default value is used when the function is called if an alternate value is not specified. "
   ]
  },
  {
   "cell_type": "code",
   "execution_count": null,
   "metadata": {},
   "outputs": [],
   "source": [
    "def judgey(name,ID,greeting=\"Hey\"):\n",
    "    \n",
    "    \"This function evaluates your twitter ID\"\n",
    "\n",
    "    if ID < 20000:\n",
    "        return(\"{0} {1}, you are an early adopter!\".format(greeting,name))\n",
    "    elif ID < 20000000:\n",
    "        return(\"{0} {1}, you are sorta hip\".format(greeting,name))\n",
    "    else:\n",
    "        return(\"{0} {1}.\".format(greeting,name))"
   ]
  },
  {
   "cell_type": "code",
   "execution_count": null,
   "metadata": {},
   "outputs": [],
   "source": [
    "judgey(\"Emily\",1489691)"
   ]
  },
  {
   "cell_type": "code",
   "execution_count": null,
   "metadata": {},
   "outputs": [],
   "source": [
    "judgey(\"Emily\",1489691,\"Well OK\")"
   ]
  },
  {
   "cell_type": "markdown",
   "metadata": {},
   "source": [
    "To sum up... we have introduced the notion of a \"function\". We have seen a lot of these before. They are sometimes built-in functions like `sum()` or they are methods like `.value_counts()`. The syntax  `def ... :` is a way to create new functions and we use one block of code to indicate the \"body\" of the function. That is, you can build your own operations that take data in, operate on it, and return in some way."
   ]
  },
  {
   "cell_type": "markdown",
   "metadata": {},
   "source": [
    "**ELIZA**\n",
    "\n",
    "And finally, today we are going to work on the basics of a chatbot. Below we have the ELIZA program in Python form. Execute it and interact. You type \"quit\" to get out."
   ]
  },
  {
   "cell_type": "code",
   "execution_count": null,
   "metadata": {},
   "outputs": [],
   "source": [
    "from re import match, IGNORECASE\n",
    "from random import choice\n",
    " \n",
    "reflections = {\n",
    "    \"am\": \"are\",\n",
    "    \"was\": \"were\",\n",
    "    \"i\": \"you\",\n",
    "    \"i'd\": \"you would\",\n",
    "    \"i've\": \"you have\",\n",
    "    \"i'll\": \"you will\",\n",
    "    \"my\": \"your\",\n",
    "    \"are\": \"am\",\n",
    "    \"you've\": \"I have\",\n",
    "    \"you'll\": \"I will\",\n",
    "    \"your\": \"my\",\n",
    "    \"yours\": \"mine\",\n",
    "    \"you\": \"me\",\n",
    "    \"me\": \"you\"\n",
    "}\n",
    " \n",
    "actions = [\n",
    "    [r'I need (.*)',\n",
    "     [\"Why do you need {0}?\",\n",
    "      \"Would it really help you to get {0}?\",\n",
    "      \"Are you sure you need {0}?\"]],\n",
    " \n",
    "    [r'Why don\\'?t you ([^\\?]*)\\??',\n",
    "     [\"Do you really think I don't {0}?\",\n",
    "      \"Perhaps eventually I will {0}.\",\n",
    "      \"Do you really want me to {0}?\"]],\n",
    " \n",
    "    [r'Why can\\'?t I ([^\\?]*)\\??',\n",
    "     [\"Do you think you should be able to {0}?\",\n",
    "      \"If you could {0}, what would you do?\",\n",
    "      \"I don't know -- why can't you {0}?\",\n",
    "      \"Have you really tried?\"]],\n",
    " \n",
    "    [r'I can\\'?t (.*)',\n",
    "     [\"How do you know you can't {0}?\",\n",
    "      \"Perhaps you could {0} if you tried.\",\n",
    "      \"What would it take for you to {0}?\"]],\n",
    " \n",
    "    [r'I am (.*)',\n",
    "     [\"Did you come to me because you are {0}?\",\n",
    "      \"How long have you been {0}?\",\n",
    "      \"How do you feel about being {0}?\"]],\n",
    " \n",
    "    [r'I\\'?m (.*)',\n",
    "     [\"How does being {0} make you feel?\",\n",
    "      \"Do you enjoy being {0}?\",\n",
    "      \"Why do you tell me you're {0}?\",\n",
    "      \"Why do you think you're {0}?\"]],\n",
    " \n",
    "    [r'Are you ([^\\?]*)\\??',\n",
    "     [\"Why does it matter whether I am {0}?\",\n",
    "      \"Would you prefer it if I were not {0}?\",\n",
    "      \"Perhaps you believe I am {0}.\",\n",
    "      \"I may be {0} -- what do you think?\"]],\n",
    " \n",
    "    [r'What (.*)',\n",
    "     [\"Why do you ask?\",\n",
    "      \"How would an answer to that help you?\",\n",
    "      \"What do you think?\"]],\n",
    " \n",
    "    [r'How (.*)',\n",
    "     [\"How do you suppose?\",\n",
    "      \"Perhaps you can answer your own question.\",\n",
    "      \"What is it you're really asking?\"]],\n",
    " \n",
    "    [r'Because (.*)',\n",
    "     [\"Is that the real reason?\",\n",
    "      \"What other reasons come to mind?\",\n",
    "      \"Does that reason apply to anything else?\",\n",
    "      \"If {0}, what else must be true?\"]],\n",
    " \n",
    "    [r'(.*) sorry (.*)',\n",
    "     [\"There are many times when no apology is needed.\",\n",
    "      \"What feelings do you have when you apologize?\"]],\n",
    " \n",
    "    [r'Hello(.*)',\n",
    "     [\"Hello... I'm glad you could drop by today.\",\n",
    "      \"Hi there... how are you today?\",\n",
    "      \"Hello, how are you feeling today?\"]],\n",
    " \n",
    "    [r'I think (.*)',\n",
    "     [\"Do you doubt {0}?\",\n",
    "      \"Do you really think so?\",\n",
    "      \"But you're not sure {0}?\"]],\n",
    " \n",
    "    [r'(.*) friend (.*)',\n",
    "     [\"Tell me more about your friends.\",\n",
    "      \"When you think of a friend, what comes to mind?\",\n",
    "      \"Why don't you tell me about a childhood friend?\"]],\n",
    " \n",
    "    [r'Yes',\n",
    "     [\"You seem quite sure.\",\n",
    "      \"OK, but can you elaborate a bit?\"]],\n",
    " \n",
    "    [r'(.*) computer(.*)',\n",
    "     [\"Are you really talking about me?\",\n",
    "      \"Does it seem strange to talk to a computer?\",\n",
    "      \"How do computers make you feel?\",\n",
    "      \"Do you feel threatened by computers?\"]],\n",
    " \n",
    "    [r'Is it (.*)',\n",
    "     [\"Do you think it is {0}?\",\n",
    "      \"Perhaps it's {0} -- what do you think?\",\n",
    "      \"If it were {0}, what would you do?\",\n",
    "      \"It could well be that {0}.\"]],\n",
    " \n",
    "    [r'It is (.*)',\n",
    "     [\"You seem very certain.\",\n",
    "      \"If I told you that it probably isn't {0}, what would you feel?\"]],\n",
    " \n",
    "    [r'Can you ([^\\?]*)\\??',\n",
    "     [\"What makes you think I can't {0}?\",\n",
    "      \"If I could {0}, then what?\",\n",
    "      \"Why do you ask if I can {0}?\"]],\n",
    " \n",
    "    [r'Can I ([^\\?]*)\\??',\n",
    "     [\"Perhaps you don't want to {0}.\",\n",
    "      \"Do you want to be able to {0}?\",\n",
    "      \"If you could {0}, would you?\"]],\n",
    " \n",
    "    [r'You are (.*)',\n",
    "     [\"Why do you think I am {0}?\",\n",
    "      \"Does it please you to think that I'm {0}?\",\n",
    "      \"Perhaps you would like me to be {0}.\",\n",
    "      \"Perhaps you're really talking about yourself?\"]],\n",
    " \n",
    "    [r'You\\'?re (.*)',\n",
    "     [\"Why do you say I am {0}?\",\n",
    "      \"Why do you think I am {0}?\",\n",
    "      \"Are we talking about you, or me?\"]],\n",
    " \n",
    "    [r'I don\\'?t (.*)',\n",
    "     [\"Don't you really {0}?\",\n",
    "      \"Why don't you {0}?\",\n",
    "      \"Do you want to {0}?\"]],\n",
    " \n",
    "    [r'I feel (.*)',\n",
    "     [\"Good, tell me more about these feelings.\",\n",
    "      \"Do you often feel {0}?\",\n",
    "      \"When do you usually feel {0}?\",\n",
    "      \"When you feel {0}, what do you do?\"]],\n",
    " \n",
    "    [r'I have (.*)',\n",
    "     [\"Why do you tell me that you've {0}?\",\n",
    "      \"Have you really {0}?\",\n",
    "      \"Now that you have {0}, what will you do next?\"]],\n",
    " \n",
    "    [r'I would (.*)',\n",
    "     [\"Could you explain why you would {0}?\",\n",
    "      \"Why would you {0}?\",\n",
    "      \"Who else knows that you would {0}?\"]],\n",
    " \n",
    "    [r'Is there (.*)',\n",
    "     [\"Do you think there is {0}?\",\n",
    "      \"It's likely that there is {0}.\",\n",
    "      \"Would you like there to be {0}?\"]],\n",
    " \n",
    "    [r'My (.*)',\n",
    "     [\"I see, your {0}.\",\n",
    "      \"Why do you say that your {0}?\",\n",
    "      \"When your {0}, how do you feel?\"]],\n",
    " \n",
    "    [r'You (.*)',\n",
    "     [\"We should be discussing you, not me.\",\n",
    "      \"Why do you say that about me?\",\n",
    "      \"Why do you care whether I {0}?\"]],\n",
    " \n",
    "    [r'Why (.*)',\n",
    "     [\"Why don't you tell me the reason why {0}?\",\n",
    "      \"Why do you think {0}?\"]],\n",
    " \n",
    "    [r'I want (.*)',\n",
    "     [\"What would it mean to you if you got {0}?\",\n",
    "      \"Why do you want {0}?\",\n",
    "      \"What would you do if you got {0}?\",\n",
    "      \"If you got {0}, then what would you do?\"]],\n",
    " \n",
    "    [r'(.*) mother(.*)',\n",
    "     [\"Tell me more about your mother.\",\n",
    "      \"What was your relationship with your mother like?\",\n",
    "      \"How do you feel about your mother?\",\n",
    "      \"How does this relate to your feelings today?\",\n",
    "      \"Good family relations are important.\"]],\n",
    " \n",
    "    [r'(.*) father(.*)',\n",
    "     [\"Tell me more about your father.\",\n",
    "      \"How did your father make you feel?\",\n",
    "      \"How do you feel about your father?\",\n",
    "      \"Does your relationship with your father relate to your feelings today?\",\n",
    "      \"Do you have trouble showing affection with your family?\"]],\n",
    " \n",
    "    [r'(.*) child(.*)',\n",
    "     [\"Did you have close friends as a child?\",\n",
    "      \"What is your favorite childhood memory?\",\n",
    "      \"Do you remember any dreams or nightmares from childhood?\",\n",
    "      \"Did the other children sometimes tease you?\",\n",
    "      \"How do you think your childhood experiences relate to your feelings today?\"]],\n",
    " \n",
    "    [r'(.*)\\?',\n",
    "     [\"Why do you ask that?\",\n",
    "      \"Please consider whether you can answer your own question.\",\n",
    "      \"Perhaps the answer lies within yourself?\",\n",
    "      \"Why don't you tell me?\"]],\n",
    " \n",
    "    [r'quit',\n",
    "     [\"Thank you for talking with me.\",\n",
    "      \"Good-bye.\",\n",
    "      \"Thank you, that will be $150.  Have a good day!\"]],\n",
    " \n",
    "    [r'(.*)',\n",
    "     [\"Please tell me more.\",\n",
    "      \"Let's change focus a bit... Tell me about your family.\",\n",
    "      \"Can you elaborate on that?\",\n",
    "      \"Why do you say that {0}?\",\n",
    "      \"I see.\",\n",
    "      \"Very interesting.\",\n",
    "      \"{0}.\",\n",
    "      \"I see.  And what does that tell you?\",\n",
    "      \"How does that make you feel?\",\n",
    "      \"How do you feel when you say that?\"]]\n",
    "]\n",
    " \n",
    " \n",
    "def reflect(fragment):\n",
    "    \n",
    "    # Turn a string into a series of words\n",
    "    tokens = fragment.lower().split()\n",
    "    \n",
    "    # for each word...\n",
    "    for i in range(len(tokens)):\n",
    "        token = tokens[i]\n",
    "    \n",
    "        # see if the word is in the \"reflections\" list and if it\n",
    "        # is, replace it with its reflection (you -> me, say)\n",
    "        if token in reflections:\n",
    "            tokens[i] = reflections[token]\n",
    "            \n",
    "    return ' '.join(tokens)\n",
    " \n",
    " \n",
    "def respond(statement):\n",
    "    \n",
    "    # run through all the actions\n",
    "    for j in range(len(actions)):\n",
    "    \n",
    "        # for each one, see if it matches the statment that was typed\n",
    "        pattern = actions[j][0] \n",
    "        responses = actions[j][1]\n",
    "        \n",
    "        found = match(pattern, statement.rstrip(\".!\"),IGNORECASE)\n",
    "        \n",
    "        if found:\n",
    "        \n",
    "            # for the first match, select a response at random and insert\n",
    "            # the text from the statement into ELIZA's response\n",
    "            response = choice(responses)\n",
    "            return response.format(*[reflect(g) for g in found.groups()])\n",
    " \n",
    " \n",
    "def eliza():\n",
    "    # a friendly welcome\n",
    "    print(\"Hello. How are you feeling today?\")\n",
    " \n",
    "    # talk forever...\n",
    "    while True:\n",
    "        \n",
    "        # collect a statement and respond, stop the conversation on 'quit'\n",
    "        statement = input(\"> \")\n",
    "        print(respond(statement))\n",
    " \n",
    "        if statement == \"quit\":\n",
    "            break\n"
   ]
  },
  {
   "cell_type": "markdown",
   "metadata": {},
   "source": [
    "The final function `eliza(),` for example, drops you into a loop (a \"while\" loop that you \"break\" out of by typing \"quit\". The only other new thing here is that the notebook has a funciton \"raw_input\" that lets your reader type things and gives you access to their musings. Play with ELIZA a little. \n",
    "\n",
    "So, what do you think?"
   ]
  },
  {
   "cell_type": "code",
   "execution_count": null,
   "metadata": {},
   "outputs": [],
   "source": [
    "eliza()"
   ]
  },
  {
   "cell_type": "markdown",
   "metadata": {},
   "source": [
    "Before we turn you lose, let's examine the code a little. The `reflect()` function turns and \"I\" into a \"you\", allowing the program to turn a user's statement \"Because I love apples\" around into the question \"If you love apples, what else must be true?\" Here is `reflect()` working on single phrases."
   ]
  },
  {
   "cell_type": "code",
   "execution_count": null,
   "metadata": {},
   "outputs": [],
   "source": [
    "reflect(\"I am troubled\")"
   ]
  },
  {
   "cell_type": "code",
   "execution_count": null,
   "metadata": {},
   "outputs": [],
   "source": [
    "reflect(\"your analysis is wrong\")"
   ]
  },
  {
   "cell_type": "markdown",
   "metadata": {},
   "source": [
    "Next, let's look at the `respond()` function a little more closely. There are some new code constructions here. Here is `respond()` in action."
   ]
  },
  {
   "cell_type": "code",
   "execution_count": null,
   "metadata": {},
   "outputs": [],
   "source": [
    "respond(\"I am doing fine.\")"
   ]
  },
  {
   "cell_type": "markdown",
   "metadata": {},
   "source": [
    "Below we take the same function but add a number of print statements to see what it's doing. The new function is called `irespond()` instead, to avoid confusion. I am going through this because we introduce here another function from `re`, `match()`. It creates a match object for each pattern match and we can get at the individual matches using `.groups()` to produce something similar to what we had from `findall()`."
   ]
  },
  {
   "cell_type": "code",
   "execution_count": null,
   "metadata": {},
   "outputs": [],
   "source": [
    "from pprint import pprint\n",
    "\n",
    "def irespond(statement):\n",
    "    \n",
    "    # run through all the actions\n",
    "    for j in range(len(actions)):\n",
    "        \n",
    "        # for each one, see if it matches the statment that was typed\n",
    "        pattern = actions[j][0] \n",
    "        responses = actions[j][1]\n",
    "        found = match(pattern, statement.rstrip(\".!\"),IGNORECASE)\n",
    "        \n",
    "        if found:\n",
    "            \n",
    "            # for the first match, select a response at random and insert\n",
    "            # the text from the statement into ELIZA's response\n",
    "            \n",
    "            print(\"Found pattern:\")\n",
    "            print(pattern)\n",
    "            print(\"--\"*5)\n",
    "            print(\"Choosing between responses:\")\n",
    "            pprint(responses)\n",
    "            \n",
    "            response = choice(responses)            \n",
    "\n",
    "            print(\"--\"*5)\n",
    "            print(\"The matched groups:\")\n",
    "            pprint([reflect(g) for g in found.groups()])\n",
    "            print(\"--\"*5)\n",
    "            \n",
    "            print(\"ELIZA's response:\")\n",
    "            print(response.format(*[reflect(g) for g in found.groups()]))\n",
    "            print(\"--\"*5)\n",
    "            \n",
    "            return"
   ]
  },
  {
   "cell_type": "code",
   "execution_count": null,
   "metadata": {},
   "outputs": [],
   "source": [
    "irespond(\"My dog.\")"
   ]
  },
  {
   "cell_type": "markdown",
   "metadata": {},
   "source": [
    "The responses have references that look like `{0}` and `{1}` and so on. Given a string with these special character strings, the method `.format()` will substitute its first argument for `{0}`, its second for `{1}` and so on. Here we make two substitutions."
   ]
  },
  {
   "cell_type": "code",
   "execution_count": null,
   "metadata": {},
   "outputs": [],
   "source": [
    "\"Not everything is {0} in words, only {1}\".format(\"sayable\",\"the living truth.\")"
   ]
  },
  {
   "cell_type": "markdown",
   "metadata": {},
   "source": [
    "The only other magic is the `*` inside the `format()` call in `irespond()` and `respond()`. What the star notation does is take a list and make it like each element is another argument for the function. So the list below has two elements, two strings, and the star make the call below just like the one above. The first element of the list is the first argument to `.format()` and the second is the second argument. "
   ]
  },
  {
   "cell_type": "code",
   "execution_count": null,
   "metadata": {},
   "outputs": [],
   "source": [
    "\"Not everything is {0} in words, only {1}\".format(*[\"sayable\",\"the living truth.\"])"
   ]
  },
  {
   "cell_type": "markdown",
   "metadata": {},
   "source": [
    "We do this because the `match()` command returns a list of the groups identified in the regular expression -- the items marked out with parenthese. So above, the word \"dog\" is the only match and the `groups()` method returns a list with just one item. `format()` then takes that item and plops it into the response string, replacing `{0}`."
   ]
  },
  {
   "cell_type": "code",
   "execution_count": null,
   "metadata": {},
   "outputs": [],
   "source": [
    "irespond(\"do you think my mother would approve?\")"
   ]
  },
  {
   "cell_type": "code",
   "execution_count": null,
   "metadata": {},
   "outputs": [],
   "source": [
    "irespond(\"I'm sad.\")"
   ]
  },
  {
   "cell_type": "markdown",
   "metadata": {},
   "source": [
    "Your turn! Start by copying and adapting the ELIZA code to fix up where it seems to get stuck, conversationally. When you are ready, start on your own bot. The more rules you rewrite the better. What are you going to talk about? What are you going to ground your conversation in? Maybe we ground it in Trump commentary (unless you're exhausted -- I'll understand)? [Here](https://www.nytimes.com/2016/11/18/technology/automated-pro-trump-bots-overwhelmed-pro-clinton-messages-researchers-say.html?_r=0) is a great article on simple political chat bots and another one [here](https://www.askhillaryanddonald.com/assets/Sample_Questions.pdf).\n",
    "\n",
    "**Another example -- saving state**\n",
    "\n",
    "Our initial example didn't have a sense of \"state\". It wandered responding to each question separately, without remembering what you said before. Let's try to build up a robot that saves state and engages in a deeper conversation. "
   ]
  },
  {
   "cell_type": "code",
   "execution_count": null,
   "metadata": {},
   "outputs": [],
   "source": [
    "def stately():\n",
    "    \n",
    "    name = \"\"\n",
    "    # a friendly welcome\n",
    "    print(\"Hello. What is your name?\")\n",
    "    \n",
    "    name = input(\"> \")\n",
    "    print(\"Hello \"+name+\". How are you today?\")\n",
    " \n",
    "    mood = input(\"> \")\n",
    "    print(\"Glad to hear you are \"+mood+\".\") \n",
    "    \n",
    "    print(\"Goodbye \"+name+\".\")"
   ]
  },
  {
   "cell_type": "code",
   "execution_count": null,
   "metadata": {},
   "outputs": [],
   "source": [
    "stately()"
   ]
  },
  {
   "cell_type": "markdown",
   "metadata": {},
   "source": [
    "Now, let's make our bot do something. Here's some base data from an API -- Dark Sky's weather API. What data are returned (in JSON) and what service could we provide?"
   ]
  },
  {
   "cell_type": "code",
   "execution_count": null,
   "metadata": {},
   "outputs": [],
   "source": [
    "from requests import get\n",
    "\n",
    "key = \"1783675d269f452b1ef6c5b9984e7b95\"\n",
    "url = \"https://api.darksky.net/forecast/\"+key+\"/40.7128,-74.0060?exclude=currently,flags\"\n",
    "\n",
    "data = get(url).json()"
   ]
  },
  {
   "cell_type": "code",
   "execution_count": null,
   "metadata": {},
   "outputs": [],
   "source": [
    "data"
   ]
  },
  {
   "cell_type": "markdown",
   "metadata": {},
   "source": [
    "**A step farther in language processing**\n",
    "\n",
    "So far we have been dealing with text as patterns of symbols -- letters, numbers, punctuation. The next level up in the chain is to think about languge itself. This is a corner of machine learning called Natural Language Processing or NLP. There is so much to say about this, but in short, it is a suite of methods and theories for automatically parsing text, recognizing words and classifying them by part of speech or by function in a sentence (subject, object, etc.). \n",
    "\n",
    "NLP then moves forward from these base pieces to perform operations like classifying text or building other kinds of models. We are going to use a package called `spaCy` that makes some of this analysis easy. First we install the package and then we have to download a \"model\". This consists of the components of vocabulary and the computational means to perform the tagging and other operations we alluded to. "
   ]
  },
  {
   "cell_type": "code",
   "execution_count": null,
   "metadata": {},
   "outputs": [],
   "source": [
    "%%sh\n",
    "pip install spacy"
   ]
  },
  {
   "cell_type": "code",
   "execution_count": null,
   "metadata": {},
   "outputs": [],
   "source": [
    "%%sh\n",
    "python -m spacy download en"
   ]
  },
  {
   "cell_type": "markdown",
   "metadata": {},
   "source": [
    "We can then create a new NLP engine that we'll just choose to call `nlp`. With this object we can take a \"document\" and start to parse out the different words..."
   ]
  },
  {
   "cell_type": "code",
   "execution_count": null,
   "metadata": {},
   "outputs": [],
   "source": [
    "import spacy\n",
    "nlp = spacy.load(\"en\")"
   ]
  },
  {
   "cell_type": "code",
   "execution_count": null,
   "metadata": {},
   "outputs": [],
   "source": [
    "document = nlp(\"WASHINGTON — The chairman of the House Judiciary Committee delivered a flurry of document demands to the executive branch and the broader Trump world on Monday that detailed the breadth of the Democrats’ investigation into possible obstruction of justice, corruption and abuse of power by President Trump and his administration.\")\n",
    "document"
   ]
  },
  {
   "cell_type": "code",
   "execution_count": null,
   "metadata": {},
   "outputs": [],
   "source": [
    "for token in document:\n",
    "    print(token.text, token.pos_, token.dep_)"
   ]
  },
  {
   "cell_type": "code",
   "execution_count": null,
   "metadata": {},
   "outputs": [],
   "source": [
    "for ent in document.ents:\n",
    "    print(ent.text, \"-\", ent.label_)"
   ]
  },
  {
   "cell_type": "markdown",
   "metadata": {},
   "source": [
    "There is an excellent [\"spaCy 101\" tutorial](https://spacy.io/usage/spacy-101) that you can how follow along with. There are so many questions that are now answerable by you about text we've seen in class. You are unstoppable!"
   ]
  }
 ],
 "metadata": {
  "kernelspec": {
   "display_name": "Python 3",
   "language": "python",
   "name": "python3"
  },
  "language_info": {
   "codemirror_mode": {
    "name": "ipython",
    "version": 3
   },
   "file_extension": ".py",
   "mimetype": "text/x-python",
   "name": "python",
   "nbconvert_exporter": "python",
   "pygments_lexer": "ipython3",
   "version": "3.7.1"
  }
 },
 "nbformat": 4,
 "nbformat_minor": 1
}
