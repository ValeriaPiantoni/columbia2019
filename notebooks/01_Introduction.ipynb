{
 "cells": [
  {
   "cell_type": "markdown",
   "metadata": {},
   "source": [
    "<img src=https://static1.squarespace.com/static/59c7d7d63e00be8678b32954/t/59c7d90dd2b85751f50743f1/1506270219938/IMG_20170924_110421.jpg>\n",
    "\n",
    "Computational journalism\n",
    "=====================\n",
    "\n",
    "Technology, Media and Democracy: Who counts?\n",
    "------------------------------------------------\n",
    "\n",
    "**Background**\n",
    "\n",
    "First, the term *computational journalism.* What does it mean for journalism to be computational? Over the last few decades, computers have become part of our everyday lives. They regulate and shape our interactions with the physical and virtual worlds. Organizations increasingly equate (though not without problems) \"data release\" with transparency. Sensing (sound, light, air quality) is cheap and plentiful, and easily deployed by the general public. Our actions online generate vast quantities of digital data. And, increasingly, computer systems exercise real power in the world through the insertion of machine learning (statistical models, artificial intelligence) alongside or in place of human decision making. In all of this, we can find new ways to ask questions about the world, how it's organized and how it functions. But the keys to this new digitized kingdom are data, code and algorithms. The curiosity, the questioning spirit, you developed last semester in your reporting classes finds an outlet in new and unexpected ways, mediated by data, code and algorithms. Hence, *computational journalism.* It is simply a response to our new condition of living in a computational society.\n",
    "\n",
    "In this year's edition of the course, we will be focusing on computational tools and techniques that, while not necessarily new, certainly achieved new prominence in the national election in 2018 and beyond. The vast networks of information that are created every day are simply too large for us to examine in their entirety. To get a sense of \"what's on,\" we take feeds from algorithmic recommender systems, we scan trending topics, we focus on information shared with us by our friends or people we trust. Recently, we have seen how these tools and strategies for directing our attention can be hacked. Our course is part of a city-wide effort to create new technologies, to look for new kinds of stories, that respond to this new societal condition, to these \"threats to journalism.\" There are five major New York City Universities involved: Columbia, Cornell Tech, Craig Newmark Graduate School of Journalism at CUNY, The New School, and NYU.\n",
    "\n",
    "From the all-city class syllabus:\n",
    "\n",
    ">How does the information ecosystem contribute to the health of representative democracies such as the United States? How do we move towards communities that are equipped with the knowledge and deliberation mechanisms required to address the challenges that face us? How does the relationship between technology platforms, media, governments and citizens determine which voices get heard?\n",
    "<br><br>\n",
    "These are some of the central questions that will animate Tech, Media & Democracy 2019: Who Counts? This course will bring together students with backgrounds in engineering, computer science, design, journalism and other relevant disciplines to understand:\n",
    "<br>\n",
    "1. New investigative tools to build our understanding of technology, media and social issues;\n",
    "The current structures, mechanisms and designs of our information ecosystem platforms and their impact on informed society outcomes;\n",
    "2. How media, propaganda and misinformation impact knowledge and participation in the functions of democracy, such as elections and the census;\n",
    "3. How the voices of vulnerable populations of people- such as minorities, immigrants and the poor- fare in our information and media landscape;\n",
    "4. The decline of local journalism, its effect on the health of communities and what can be done to repair it. \n",
    "\n",
    ">The city-wide course sessions will feature ten joint group lectures and activities taking place on Monday nights across New York City at participating universities and host organizations such as media companies; a hackathon that will compel teams to develop solutions to the problems posed in the course; and an opportunity to present prototype solutions publicly at the close of the semester. The goal of the course is to bring diverse perspectives to these challenging problems. \n",
    "\n",
    "Along the way, we will cover a variety of topics that will help you in your journalistic practice, both in the sense that you better understand the media \"ecology\" you interact with daily, but also we will teach you to look to these systems as a source of stories, and even perhaps as a source of inspiration to build some kind of new platform to support journalism. We will learn a variety of tools, and our primary programming language will be Python. We will talk through how we came to this decision, but for the moment, know that it is a flexible language that lets you easily connect to networks like Twitter, assemble and analyze data from formal databases and the web, and build responsive services based on all these inputs. \n",
    "\n",
    "We will use Python from within this \"notebook\" framework. The notebook is an ideal way to address you journalistic and programming needs. Beyond simply commenting on what\n",
    "your code is doing, these notebooks are a legitimate authoring system that you will use\n",
    "to create (and publish) pitches and memos for this class. One of your humble instructors has [lectured on why the Jupyter notebook is ideal for journalists.](https://conferences.oreilly.com/jupyter/jup-ny/public/schedule/detail/70966)"
   ]
  },
  {
   "cell_type": "markdown",
   "metadata": {},
   "source": [
    "**Why we code**\n",
    "\n",
    "The goal of this course is to introduce computation, broadly defined, as a tool for both finding and telling stories. This mean \"reporting on\" computation and its role in the world, as well as \"reporting with\" computing tools in pursuit of a story -- and any combination of the two.  \n",
    "\n",
    "When teaching computation (or any \"technology\") as part of a course, people often refer to \"literacy\" as a goal. For the most part, that term implies \"functional literacy\" -- do you understand how to use something? Can you write a program, say, to assemble a data set from the web? \n",
    "\n",
    "Stuart Selber, a professor of English at Penn State, writes about two other facets to being literate. After functional literacy, he defines \"critical literacy.\" Here are characteristics of a critically literate student.\n",
    "\n",
    ">*Design cultures.* A critically literate student scrutinizes the dominant perspectives that shape computer design cultures and their artifacts.\n",
    "<br><br>\n",
    "*Use contexts.* A critically literate student sees use contexts as an inseperable aspect of computers that helps to contextualize and constitute them.\n",
    "<br><br>\n",
    "*Institutional forces.* A critically literate student understands the institutional forces that shape computer use.\n",
    "<br><br>\n",
    "*Popular representations.* A critically literate student scrutinizes representations of \n",
    "computers in the public imagination.\n",
    "\n",
    "The third kind of literacy is \"rhetorical.\" \n",
    "\n",
    ">*Persuasion.* A rhetorically literate student understands that persuasion permeates interface design contexts in both implicit and explicit ways and that it always involves larger structures and forces (e.g., use contexts, ideology).\n",
    "<br><br>\n",
    "*Deliberation.* A rhetorically literate student understands that interface design problems are ill-defined problems whose solutions are representational arguments that have been arrived at through various deliberative activities.\n",
    "<br><br>\n",
    "*Reflection.* A rhetorically literate student articulates his or her interface design knowledge at a conscious level and subjects their actions and practices to critical assessment.\n",
    "<br><br>\n",
    "*Social action.* A rhetorically literate student sees interface design as a form of social versus technical action.\n",
    "\n",
    "From the standpoint of a journalism student, all of this might best be wrapped up in the following equivalences (shamelessly cribbed from Ian Bogost at Georgia Tech).\n",
    "<br><br>\n",
    "<center><b>Digital Technology = Model of the World  = Argument</b></center>\n",
    "<br><br>\n",
    "In short, every piece of digital technology embeds within it a model of the world. You might think of this as the dominant \"use case\" a designer had in mind. The net effect is that some actions are natural, \"designed for\", easy, while others are hard. And this is the argument. It is the way that technology trains you to adopt its conventions, its embedded model of the world. You are led to do the easy things and avoid the hard things. \n",
    "\n",
    "In this class, we will spend a great deal of time learning a programming language, Python. And yes, any given coding language has its own model of the world and makes its own arguments for certain kinds of practices (certain metaphors for actually writing code). But with a coding language comes almost unbounded flexibility to create. Unlike many of the designed systems we interact with, coding gives us the freedom to build, to imagine the world in new ways. \n",
    "\n",
    "All of these ideas take on particular resonance with our theme, \"Hacking your attention.\" We are inviting you to not only investigate existing algorithms for computing \"trending topics,\" but also to try out your own ideas about how this should be done. In an age when people are arguing for \"algorithmic accountability\" and \"explainable\" artificial intelligence\", it's the perfect time to consider a reporting practice that investigates by building. "
   ]
  },
  {
   "cell_type": "markdown",
   "metadata": {},
   "source": [
    "**Instructors**\n",
    "\n",
    "Given our ambitions for this course, we have an additional instructor who will be leaading discussions, giving lectures and assignments, and providing assistance with your projects. \n",
    "\n",
    ">**Michael Young** *became the GM of Civil Labs in April of 2018 after a long period as CTO of Digg.com. Before joining Digg, he was  CTO/co-founder of a Betaworks-funded personalized news service called News.me. A few years after starting News.me, betaworks acquired Digg, at which time Michael and his News.me team transitioned into the group that would rebuild Digg. Prior to that, he was the lead Creative Technologist in the NYTimes R&D Lab. At the NYTimes R&D lab, Michael led a group charged with prototyping new ways of consuming media across mobile, web, tv and other connected devices (cars, etc). During his time there, he authored two books, won the Yahoo! BBC London Hack Day, received a patent for \"Method and System for Providing Preference Based Content to a Location Aware Mobile Device\" and was awarded a Knight-Batten Award for Innovations in Journalism. Michael has a degree in Computer Science and Math from Lewis & Clark College in Portland, OR.*"
   ]
  },
  {
   "cell_type": "markdown",
   "metadata": {},
   "source": [
    "**Assignments**\n",
    "\n",
    "**Each week**, you will receive notebooks, like this one, that you will work through outside of class. They will usually be due before the next class meeting, but specific deadlines will be given with each. There will be one or two per week and their level of detail will depend on the material. Sometimes they will be more drill-like, and other times they will challenge you to create something new. But don't worry, we do not assume you know anything about Python, in particular, or coding, in general. \n",
    "\n",
    "**You may work on your assignment in groups, but you should answer any questions in your own words. No copying. It is important that we see how well you are understanding the material.**\n",
    "\n",
    "In addition, **each week** you will find a story or some technology (program, platform, web site) that deals with the themes of the class. You will write a summary/critique, and contribute it to the course Tumblr page. To help you, here are the kinds of questions you might address about a story you read.\n",
    "\n",
    "1. What is the story about? Use no more than two sentences.\n",
    "2. What drew you to this story, and why does it enhance our class discussion?\n",
    "3. What data is used in the story, if any? How did the journalist obtain the data?\n",
    "4. How did the computing help in telling the story? Who performed the computations?\n",
    "5. Did the journalist \"show their work\" and could you recreate their results?\n",
    "6. What non-computing sources were used, and how do they contribute to the story?\n",
    "7. What would you do to follow up on this story? Where would you go next? \n",
    "\n",
    "These writeups are **due by 5pm Monday evenings.**\n",
    "\n",
    "The class will culminate in a final project, the largest component of your grade. You will work in groups of 2-3 students. Your project is meant to be an act of computational journalism. This might mean building and documenting a new data set or computing service, or using computation to probe an existing platform or data set to tell a new story. No matter what path is chosen, we expect a well-written, well-reported story memo that accompanies your analysis or technology development. \n",
    "\n",
    "**A significant story pitch describing your project is due March 27.** This should be of\n",
    "sufficient detail that it’s clear you will have a strong, finished project by the end of the\n",
    "term — you might have started building something, reporting on something and\n",
    "analyzing data, etc. The purpose of this midterm check-in is to avoid end-of-term\n",
    "surprises as data fall through, holes emerge or analyses break down.\n",
    "\n",
    "**Each Tuesday by 5pm** students will update a Jupyter notebook corresponding to\n",
    "their final project. Initially, this might consist entirely of text and straight-up reporting, along with questions about a story idea and how to proceed. It might also consist of computations and progress toward a final story memo. We expect just one update per group.\n",
    "\n",
    "**Grading**\n",
    "\n",
    "Grades will be divided between weekly writing assignments (computing or data story\n",
    "writeups and project updates), weekly coding drills, your final project, and attendance/\n",
    "participation. \n",
    "\n",
    "> 15% Attendance and participation<br>\n",
    "> 15% Blog contributions (computing stories) and presentations<br>\n",
    "> 15% Project updates<br>\n",
    "> 15% Coding homework<br>\n",
    "> 40% Final project\n",
    " \n",
    "We will make use of the “low pass” option for grading."
   ]
  },
  {
   "cell_type": "markdown",
   "metadata": {},
   "source": [
    "**Python and Jupyter**\n",
    "\n",
    "Python is a programming language created by a guy, [Guido van Rossum](https://en.wikipedia.org/wiki/Guido_van_Rossum). van Rossum began work on Python in the late 1980s and version 1.0 was released in 1994. Python now has a considerable development community and you can find important resources at the [Python web site.](https://www.python.org/) According to that site, Python is \"a high-level general-purpose programming language that can be applied to many different classes of problems.\" \n",
    "\n",
    "Those problems include  string manipuation -- looking at the words or sentences in a document, say. Python is conversant in network protocols which means you can use it to access web sites and services -- this will help with web scraping or pulling data from Twitter. There are add-ons contributed by the community that let you make wonderful maps and data visualizations, perform analysis on tabular data (but not in a wonky Excel fashion), and access data stored in a variety of different databases. \n",
    "\n",
    "In the late 1990s van Rossum wrote a proposal entitled [\"Computer Programming for Everybody\"](https://www.python.org/doc/essays/cp4e/). To give you a sense of van Rossum as a designer of technology, consider this passage.\n",
    "\n",
    ">In the dark ages, only those with power or great wealth (and selected experts) possessed reading and writing skills or the ability to acquire them. It can be argued that literacy of the general population (while still not 100%), together with the invention of printing technology, has been one of the most emancipatory forces of modern history.\n",
    "<br><br>\n",
    "We have only recently entered the information age, and it is expected that computer and communication technology will soon replace printing as the dominant form of information distribution technology. About half of all US households already own at least one personal computer, and this number is still growing.\n",
    "<br><br>\n",
    "However, while many people nowadays use a computer, few of them are computer programmers. Non-programmers aren't really \"empowered\" in how they can use their computer: they are confined to using applications in ways that \"programmers\" have determined for them. One doesn't need to be a visionary to see the limitations here.\n",
    "\n",
    "Later he envisions a world with millions or even billions of computer programmers at various levels of proficiency. His is a world where people are not trained by expert-created platforms, but instead have sufficient facility with computation to help shape the software systems around them.\n",
    "\n",
    "In the rest of this Jupyter notebook, we introduce Python as a language and prepare you for its basic \"syntax\" -- as a language, what are the nouns and verbs and what grammar glues them together? We will also introduce you to the Jupyter notebook itself.\n",
    "\n",
    "Jupyter, by the way, comes from the original core languages that the notebook supported -- Julia, Python and R. You might have heard about Python and R, but probably not Julia. In fact, new langauges are being created all the time, often tailored to particular kinds of problems. Python is a bit of a generalist, while R is great for statistical computations. [Here is a very long list](https://en.wikipedia.org/wiki/List_of_programming_languages) of programming languages. \n",
    "\n",
    "But our choice is made -- Python. Let's have a look!"
   ]
  },
  {
   "cell_type": "markdown",
   "metadata": {},
   "source": [
    "**Introduction**\n",
    "\n",
    "We will begin our introduction to Python with some of the most infamous artifacts since the last election -- Donald Trump's tweets. Trump's use of Twitter might be a topic for a final project, and this article in the New York Times, [**10 Times Trump Spread Fake News**](https://www.nytimes.com/interactive/2017/business/media/trump-fake-news.html?em_pos=small&emc=edit_tu_20170118&nl=bits&nl_art=1&nlid=16428923&ref=headline&te=1&_r=0&smid=tw-share), suggests broader connections with the themes of our class.\n",
    "\n",
    ">His sourcing highlights the bounty of misinformation accessible on the web and its power in a deeply divided America — especially when endorsed by someone of Mr. Trump’s influence and visibility.\n",
    "<br><br>\n",
    "He offered this explanation for his actions while discussing an altered YouTube video he had tweeted as part of an unsubstantiated claim that a protester at one of his rallies had ties to the Islamic State: “I don’t know what they made up; all I can do is play what’s there,” Mr. Trump said on NBC’s “Meet the Press.”\n",
    "<br><br>\n",
    "“All I know is what’s on the internet.”\n",
    "\n",
    "So, to begin. **This text is written in \"Markdown,\"** a kind of pre-language for creating HTML. You should have run through the Markdown exercise before class. You can double-click on this \"cell\" to see the raw Markdown, and then shift-enter to render it as HTML.\n",
    "\n",
    "Your notebook knows a few kinds of cells and we will spend our time primarily with Markdown and Python. The cell below this is a \"code\" cell-- it contains simple Python instructions or \"expressions.\" You \"execute\" the code in the cell by simply clicking and then shift-enter. "
   ]
  },
  {
   "cell_type": "code",
   "execution_count": null,
   "metadata": {
    "collapsed": true
   },
   "outputs": [],
   "source": [
    "5+30"
   ]
  },
  {
   "cell_type": "markdown",
   "metadata": {},
   "source": [
    "You can also assign \"variables\" -- that is, we take the result of some expression or computation on the righthand side of the \"equals\" sign and let the name on the lefthand side refer to it. Here, \"p\" is associated with the sum of 5 and 30 and wherever we refer to p, that value of 35 is substituted."
   ]
  },
  {
   "cell_type": "code",
   "execution_count": null,
   "metadata": {
    "collapsed": true
   },
   "outputs": [],
   "source": [
    "p = 5+30\n",
    "12+p"
   ]
  },
  {
   "cell_type": "markdown",
   "metadata": {},
   "source": [
    "Working with Python is about creating and evolving \"software objects\". For example, the number 35 is an object that, like objects in the real world, has things you can do with it (add it to or multiply it by another number, say) and various properties (for example, 35 is smaller than 38). Python's creators designed a series of powerful objects that will help us do a lot of work, and, importantly, they left open a backdoor so you can make new kinds of objects. Why might we do that?\n",
    "\n",
    "Community members have created objects to work with images and sound, to manipulate tabular data and not just single values like 35, to make requests for data across the web, or to suck the data out of PDF files. All of this will become second nature. But for now, the important thing is that **Python is an object-oriented language**, meaning that software objects are used to organize data and computations. \n",
    "\n",
    "You can get the type or \"class\" of any object by asking with the \"function\" `type()`."
   ]
  },
  {
   "cell_type": "code",
   "execution_count": null,
   "metadata": {
    "collapsed": true
   },
   "outputs": [],
   "source": [
    "type(35)"
   ]
  },
  {
   "cell_type": "markdown",
   "metadata": {},
   "source": [
    "Here `int` stands for \"integer\" which we (hopefully) remember from grade school. \n",
    "\n",
    "Before we explain what functions like `type()` are (although they are again objects), let's look at some other data types. There are objects to represent \"real\" numbers, strings of characters and even objects that contain other objects, perhaps organizing them into a list."
   ]
  },
  {
   "cell_type": "code",
   "execution_count": null,
   "metadata": {
    "collapsed": true
   },
   "outputs": [],
   "source": [
    "type(5.0/30.0 + 2.3)"
   ]
  },
  {
   "cell_type": "markdown",
   "metadata": {},
   "source": [
    "Wait, \"float\"? What's that? Hmm. \n",
    "\n",
    "Lucky thing Python even knows about more elaborate objects like YouTube videos. But we're getting ahead of ourselves. The type \"float\" represents a \"floating point number\" which is a computer representation of numbers that have a decimal point. "
   ]
  },
  {
   "cell_type": "code",
   "execution_count": null,
   "metadata": {
    "collapsed": true
   },
   "outputs": [],
   "source": [
    "from IPython.display import YouTubeVideo\n",
    "YouTubeVideo('PZRI1IfStY0')"
   ]
  },
  {
   "cell_type": "markdown",
   "metadata": {},
   "source": [
    "As we think about the kinds of data we come across everyday browsing the web, certainly numbers are important. But so too are sequences of characters or \"strings\". These might represent people's names or addresses, for example. We create a string in Python by surrounding a series of characters with quotations."
   ]
  },
  {
   "cell_type": "code",
   "execution_count": null,
   "metadata": {
    "collapsed": true
   },
   "outputs": [],
   "source": [
    "type(\"Is he really going to make us read Trump's Tweets?\")"
   ]
  },
  {
   "cell_type": "markdown",
   "metadata": {},
   "source": [
    "We can again introduce variables to store this data descriptively, and work with the names as easily as we would the underlying data."
   ]
  },
  {
   "cell_type": "code",
   "execution_count": null,
   "metadata": {
    "collapsed": true
   },
   "outputs": [],
   "source": [
    "p = \"Is he really going to make us read Trump's Tweets?\"\n",
    "p + \" Heaven help us.\""
   ]
  },
  {
   "cell_type": "markdown",
   "metadata": {},
   "source": [
    "This is a nice example of computations changing depending on the type of the objects involved. Add two numbers and you get their sum. Add two strings and you get a concatenation. What about multiplication?"
   ]
  },
  {
   "cell_type": "code",
   "execution_count": null,
   "metadata": {
    "collapsed": true
   },
   "outputs": [],
   "source": [
    "\"Tweets \"*10"
   ]
  },
  {
   "cell_type": "markdown",
   "metadata": {},
   "source": [
    "To access the data and computations (methods) unique to a particular object, we use so-called \"dot\" or \".\" notation. What kinds of things might we want to do with strings, for example? What computations make sense?\n",
    "\n",
    "Note that the notebook has been \"printing\" out the result of the last computation in the cell. If we want to see the results of other computations, we need to call the `print()` command as we are doing below. So, instead of this..."
   ]
  },
  {
   "cell_type": "code",
   "execution_count": null,
   "metadata": {
    "collapsed": true
   },
   "outputs": [],
   "source": [
    "p = \"Without a Wall there cannot be safety and security at the Border or for the U.S.A. BUILD THE WALL AND CRIME WILL FALL! \"\n",
    "\n",
    "p.upper()"
   ]
  },
  {
   "cell_type": "markdown",
   "metadata": {},
   "source": [
    "... we could do this."
   ]
  },
  {
   "cell_type": "code",
   "execution_count": null,
   "metadata": {
    "collapsed": true
   },
   "outputs": [],
   "source": [
    "p = \"Without a Wall there cannot be safety and security at the Border or for the U.S.A. BUILD THE WALL AND CRIME WILL FALL! \"\n",
    "\n",
    "print(p.upper())\n",
    "print(p.lower())\n",
    "\n",
    "print(p.count(\"i\"))\n",
    "print(p.replace(\"t\",\"g\"))"
   ]
  },
  {
   "cell_type": "markdown",
   "metadata": {},
   "source": [
    "Notice that when we are taking action like translating something to uppercase or counting the number of \"i\"'s in the string, we end the method with parentheses. Think back to your algebra when you were introduced to functions. It's the same concept here. Sometimes functions require \"arguments\" (like when we replaced the \"t\"'s with \"g\"'s) and sometimes they do not (like when we turned the string to upper or lowercase).\n",
    "\n",
    "Notice that methods can (and likely will be) unique to the kind of object we are dealing with. This will toss up an error because it's not clear how one turns a number into uppercase."
   ]
  },
  {
   "cell_type": "code",
   "execution_count": null,
   "metadata": {
    "collapsed": true
   },
   "outputs": [],
   "source": [
    "p = 40\n",
    "p.upper()"
   ]
  },
  {
   "cell_type": "markdown",
   "metadata": {},
   "source": [
    "Python has a simple help facility to let you see what kinds of things you can do to an object and what kinds of data it has. `help()` is another function, by the way. (This means we've seen two kinds of functions -- `help()` and `type()` are so-called \"globals\" that can be applied widely, whereas `upper()` and `count()` are associated with specific object types and are called with the dot notation.)"
   ]
  },
  {
   "cell_type": "code",
   "execution_count": null,
   "metadata": {
    "collapsed": true
   },
   "outputs": [],
   "source": [
    "p = \"Tweets\"\n",
    "help(type(p))"
   ]
  },
  {
   "cell_type": "code",
   "execution_count": null,
   "metadata": {
    "collapsed": true,
    "scrolled": false
   },
   "outputs": [],
   "source": [
    "p = 1.5\n",
    "help(type(p))"
   ]
  },
  {
   "cell_type": "markdown",
   "metadata": {},
   "source": [
    "Here you see all the things you can do to a float. Like, say, turn it into the ratio of two integers..."
   ]
  },
  {
   "cell_type": "code",
   "execution_count": null,
   "metadata": {
    "collapsed": true
   },
   "outputs": [],
   "source": [
    "p.as_integer_ratio()"
   ]
  },
  {
   "cell_type": "markdown",
   "metadata": {},
   "source": [
    "Before we leave this introduction, just a comment on how you can extend the capabilities of Python. It know about numbers and strings and a lot of different kinds of \"built-in\" objects. But sometimes you want to work with other objects not considered by the language's designers. Here we \"import\" functionality from other packages or modules contributed by community members. In the case below, we create an object representing a YouTubeVideo and play it. Be warned! This one is not as exciting as floating point numbers. It's about Jupyter :)"
   ]
  },
  {
   "cell_type": "code",
   "execution_count": null,
   "metadata": {
    "collapsed": true
   },
   "outputs": [],
   "source": [
    "from IPython.display import YouTubeVideo\n",
    "YouTubeVideo('GMKZD1Ohlzk')"
   ]
  },
  {
   "cell_type": "markdown",
   "metadata": {},
   "source": [
    "I should add that the Jupyter notebook is quite a thing on its own. You can publish it as a document, you can send it around for others to use. It is also capable of \"magic,\" allowing us to tell the notebook to interpret the code in a cell as Python (default) or R or HTML or even UNIX. Here's the HTML code for embedding one of Trump's Tweets, taken directly from Twitter.\n",
    "\n",
    "Here we use the `%%` to tell Jupyter that the code that follows is HTML and to render it as such in the browser. The result is an embedded Tweet. "
   ]
  },
  {
   "cell_type": "code",
   "execution_count": null,
   "metadata": {
    "collapsed": true
   },
   "outputs": [],
   "source": [
    "%%HTML\n",
    "<blockquote class=\"twitter-tweet\" data-lang=\"en\"><p lang=\"en\" dir=\"ltr\">Greatest Witch Hunt in the History of our Country! NO COLLUSION! Border Coyotes, Drug Dealers and Human Traffickers are treated better. Who alerted CNN to be there?</p>&mdash; Donald J. Trump (@realDonaldTrump) <a href=\"https://twitter.com/realDonaldTrump/status/1088832908494888961?ref_src=twsrc%5Etfw\">January 25, 2019</a></blockquote>\n",
    "<script async src=\"https://platform.twitter.com/widgets.js\" charset=\"utf-8\"></script>"
   ]
  },
  {
   "cell_type": "markdown",
   "metadata": {},
   "source": [
    "Now, let's recall one of our more advanced objects, a string. Here is the text of a couple of Trump's tweets. Let's count how often words are used. (Be careful here, we are just looking for the exact set of characters in the `count()` method.)"
   ]
  },
  {
   "cell_type": "code",
   "execution_count": null,
   "metadata": {
    "collapsed": true
   },
   "outputs": [],
   "source": [
    "tweet = \"A government shutdown will be devastating to our military...something the Dems care very little about!\"\n",
    "tweet.count(\"o\")"
   ]
  },
  {
   "cell_type": "code",
   "execution_count": null,
   "metadata": {
    "collapsed": true
   },
   "outputs": [],
   "source": [
    "tweet = \"We need the Wall for the safety and security of our country. We need the Wall to help stop the massive inflow of drugs from Mexico, now rated the number one most dangerous country in the world. If there is no Wall, there is no Deal!\"\n",
    "tweet.count(\"Wall\")"
   ]
  },
  {
   "cell_type": "markdown",
   "metadata": {},
   "source": [
    "These are just a couple Tweets out of oh so many. (I should add tht the two tweets above came from *2018*.) You can have access to all Trump's Tweets through the [Trump Twitter Archive](http://www.trumptwitterarchive.com/). \n",
    "\n",
    "We will work with this data set today and Wednesday. For now, we'll use a special version we created that is basically a big text file, one line per tweet from the first 24 days of 2019. [Download it here](https://github.com/computationaljournalism/columbia2019/raw/master/data/trump_2019.txt) and place it in the same folder as this notebook. You can hold down the \"Option\" key and click on the  link in the previous sentence to download the file directly on a Mac, say.\n",
    "\n",
    "We then use a function called `open()` to open the file (creating an object that represents . a file of data) and then invoke a `read()` method to scan its contents. Over the semester, we'll have a lot to say about how you load data for Python to work with. For now, we are taking the file of Tweets and reading them in as one long text string."
   ]
  },
  {
   "cell_type": "code",
   "execution_count": null,
   "metadata": {},
   "outputs": [],
   "source": [
    "tweetfile = open(\"trump_2019.txt\")\n",
    "tweets = tweetfile.read()\n",
    "tweets"
   ]
  },
  {
   "cell_type": "markdown",
   "metadata": {},
   "source": [
    "Exhibiting the string in this way highlights the fact that it includes special characters like `\\n`. This particular special character means a \"newline\" -- it is what happens when you hit \"enter\" when you are typing in a Word document. We can have the `\\n`'s print as actual newlines by using the command `print()` instead. (This is one of the differences between having the notebook exhibit the result of your last computation and formally calling Python's `print()` command.) Here we will get one line (perhaps wrapped) per Tweet."
   ]
  },
  {
   "cell_type": "code",
   "execution_count": null,
   "metadata": {
    "collapsed": true
   },
   "outputs": [],
   "source": [
    "print(tweets)"
   ]
  },
  {
   "cell_type": "markdown",
   "metadata": {},
   "source": [
    "This is a slightly silly way to store these \"data\". You can think of having all of the president's tweets in one big word document, one line per tweet. There are better ways to structure this information and there's more information to be had than just the text of each tweet -- there's time and retweet counts and so on. But for now, we'll keep it really simple and store the data like one long string.\n",
    "\n",
    "**1. As the objecct `tweets` is one long string (type `str`), write some code and tell us something about Trump's tweets from 2019 so far -- how many times did he mention a wall? or a barrier?**"
   ]
  },
  {
   "cell_type": "code",
   "execution_count": null,
   "metadata": {
    "collapsed": true
   },
   "outputs": [],
   "source": [
    "# Your code here\n",
    "\n"
   ]
  },
  {
   "cell_type": "markdown",
   "metadata": {},
   "source": [
    "We have also prepared [a file with Trump's tweets from 2018 during the same time period](https://github.com/computationaljournalism/columbia2019/raw/master/data/trump_2018.txt). Download it and put it in the same folder as you've stored this notebook.  \n",
    "\n",
    "**2. Read in the tweets as you did before, but call the string something other than `tweets`. We want you to compare 2018 and 2019. What was the president concerned about in 2018 versus 2019?**"
   ]
  },
  {
   "cell_type": "code",
   "execution_count": null,
   "metadata": {
    "collapsed": true
   },
   "outputs": [],
   "source": [
    "# Your code here\n",
    "\n"
   ]
  },
  {
   "cell_type": "markdown",
   "metadata": {},
   "source": [
    "**3. Find online documentation about \"string methods\" in Python (version 3) and try something out that we haven't used yet in this notebook.**"
   ]
  },
  {
   "cell_type": "code",
   "execution_count": null,
   "metadata": {
    "collapsed": true
   },
   "outputs": [],
   "source": [
    "# Your code here\n",
    "\n"
   ]
  },
  {
   "cell_type": "markdown",
   "metadata": {},
   "source": [
    "**4. Come up with 3 story ideas about Trump's tweets, perhaps comparing 2018 to 2019, perhaps some other topic. Think broadly and not just with respect to the data you've been working with. For each, describe the kind of computation you would need to do (\"I need to count how many...\") and whether this simple form of storing tweets as one long string is up to the task. For example, this is a limiting way to work with text -- what kinds of things would you like to be able to do or \"read\" from the text that our simple set of commands like `count()` and `upper()` don't do? Also there is a lot of data about a tweet other than its text -- perhaps your story idea needs some of this other information. Basically, in anticipation of next lecture when we start to add more structure to data, we want you to think about what you might need to tell a story.**"
   ]
  },
  {
   "cell_type": "markdown",
   "metadata": {},
   "source": [
    "Write your ideas here\n",
    "\n"
   ]
  }
 ],
 "metadata": {
  "anaconda-cloud": {},
  "kernelspec": {
   "display_name": "Python 3",
   "language": "python",
   "name": "python3"
  },
  "language_info": {
   "codemirror_mode": {
    "name": "ipython",
    "version": 3
   },
   "file_extension": ".py",
   "mimetype": "text/x-python",
   "name": "python",
   "nbconvert_exporter": "python",
   "pygments_lexer": "ipython3",
   "version": "3.6.8"
  }
 },
 "nbformat": 4,
 "nbformat_minor": 1
}
