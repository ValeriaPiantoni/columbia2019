{
 "cells": [
  {
   "cell_type": "markdown",
   "metadata": {},
   "source": [
    "Drill on the Basics\n",
    "----------------------\n",
    "\n",
    "Before you start, go over the notebook from class. You should stop before section 8 on higher level objects (when we talked about data frames) -- that material was included as a kind of \"north star\" to show you where we're headed but it's too soon to dig in with them. \n",
    "\n",
    "**Markdown**\n",
    "\n",
    "As we mentioned in class, this cell, like all the \"text\" cells of a Jupyter notebook are in *Markdown* (a play on words contrasting, say, the Hypertext *Markup* Language). You see the underlying Markdown text by double clicking in this cell. (Go ahead, double click!)\n",
    "\n",
    "Markdown is a set of simple conventions that are easily translated into HTML -- shift-enter in this cell will make the translation and render it in the notebook for you. *So with Markdown you are authoring a web page, but using simple shortcuts.*\n",
    "\n",
    "You can find [the Markdown description here.](http://daringfireball.net/projects/markdown/) It will be a useful resource if you ever get stuck or forget how to do something. Now, let's have you writing something in Markdown.\n",
    "\n",
    ">1. Work through this [Markdown Tutorial](http://markdowntutorial.com). It will introduce you to the basic elements of the language in a pretty quick and painless way.\n",
    "<br><br>\n",
    "2. In the cell below, author a short description of the coverage around the #LearnToCode meme. Who is reportedly involved? What happened? What are the important next questions. We provided you with a few news stories -- \n",
    "[The Ringer](https://www.theringer.com/tech/2019/1/29/18201695/learn-to-code-twitter-abuse-buzzfeed-journalists), \n",
    "[Fox News](https://www.foxnews.com/tech/twitter-fights-harassment-against-fired-journalists-told-to-learn-to-code), \n",
    "[Breitbart](https://www.breitbart.com/tech/2019/01/28/twitter-telling-fired-journalists-to-learn-to-code-is-targeted-harassment/), \n",
    "and \n",
    "[The Daily Wire](https://www.dailywire.com/news/42783/heres-where-learn-code-meme-originated-hint-not-ashe-schow) -- but feel free to do your own reading. We are not looking for very much research here, we are mostly interested in you writing some text in Markdown and becoming familiar with the language. *Include a heading, some bold text, a list, a link to a web page and a blockquote.* We're only looking for a short piece of text, not more than 200 words. "
   ]
  },
  {
   "cell_type": "markdown",
   "metadata": {},
   "source": [
    "Your text here\n",
    "\n",
    "\n"
   ]
  },
  {
   "cell_type": "markdown",
   "metadata": {},
   "source": [
    "**Built-in Data Types**\n",
    "\n",
    "As we have seen, Python, like most programming languages, deals in some basic data types. We've seen strings (sequences of characters) and numbers (integers or floating point) and booleans (True or False). \n",
    "\n",
    "Think of these as building blocks from which all manner of other kinds of data are assembled. In the last lecture we saw briefly how we could create a spreadsheet object where the data are organized as a table, something you are familiar with from Excel. But we'll see tweets and images and PDF documents and so many other kinds of data built from these basic types. \n",
    "\n",
    "So, it's worth getting familiar with them. Roll up your sleeves. \n",
    "\n",
    "**First, strings.** One of the more prolific contributors to the meme \"learn to code\" is an account `@cassidyphoenyx`. This account contributed 15 tweets (not retweets, but original tweets or replies) and a large number of retweets. Here are the accounts tweets and replies.\n",
    "\n",
    "1. [http://twitter.com/statuses/1087004944442540032](http://twitter.com/statuses/1087004944442540032)<br>\n",
    "2. [http://twitter.com/statuses/1088260444920401920](http://twitter.com/statuses/1088260444920401920)<br>\n",
    "3. [http://twitter.com/statuses/1088537147802558470](http://twitter.com/statuses/1088537147802558470)<br>\n",
    "4. [http://twitter.com/statuses/1088540809924931586](http://twitter.com/statuses/1088540809924931586)<br>\n",
    "5. [http://twitter.com/statuses/1088612604011036674](http://twitter.com/statuses/1088612604011036674)<br>\n",
    "6. [http://twitter.com/statuses/1088614843010240512](http://twitter.com/statuses/1088614843010240512)<br>\n",
    "7. [http://twitter.com/statuses/1088619553737900032](http://twitter.com/statuses/1088619553737900032)<br>\n",
    "8. [http://twitter.com/statuses/1088727784942374913](http://twitter.com/statuses/1088727784942374913)<br>\n",
    "9. [http://twitter.com/statuses/1088790760835686402](http://twitter.com/statuses/1088790760835686402)<br>\n",
    "10. [http://twitter.com/statuses/1088887354998300683](http://twitter.com/statuses/1088887354998300683)<br>\n",
    "11. [http://twitter.com/statuses/1089292752901324801](http://twitter.com/statuses/1089292752901324801)<br>\n",
    "12. [http://twitter.com/statuses/1089380743107825664](http://twitter.com/statuses/1089380743107825664)<br>\n",
    "13. [http://twitter.com/statuses/1089385810519117824](http://twitter.com/statuses/1089385810519117824)<br>\n",
    "14. [http://twitter.com/statuses/1089407287867908096](http://twitter.com/statuses/1089407287867908096)<br>\n",
    "15. [http://twitter.com/statuses/1089638408325079040](http://twitter.com/statuses/1089638408325079040)<br>\n",
    "\n",
    "So clicking on, say, number 13, we see that `@cassidyphoenyx` tweeted at the president \"They should learn to code\". We can create a string object with this text and store it in a variable as follows. We also use the method `lower()` to crete a lowercase version of the tweet, calling it `ltweet`, and `print()` it out. \n",
    "\n",
    "Again, `lower()` is a method associated with string objects and we access it with the \".\" or \"dot\" notation. `print()` on the other hand is a global function that can be applied to any object and so it's special, like `help()` or `type()` and you don't use the \"dot\"."
   ]
  },
  {
   "cell_type": "code",
   "execution_count": null,
   "metadata": {},
   "outputs": [],
   "source": [
    "tweet = \"They should learn to code\"\n",
    "ltweet = tweet.lower()\n",
    "\n",
    "print(ltweet)"
   ]
  },
  {
   "cell_type": "markdown",
   "metadata": {},
   "source": [
    "Remember that we can count the occurrence of patterns of characters in a string using the method of a string object `count()`. Again, like `lower()` it is accessed via the \".\" or \"dot\" notation because it doesn't make sense for every kind of object and has been implemented for strings."
   ]
  },
  {
   "cell_type": "code",
   "execution_count": null,
   "metadata": {},
   "outputs": [],
   "source": [
    "print(ltweet.count(\"t\"))\n",
    "print(ltweet.count(\"code\"))"
   ]
  },
  {
   "cell_type": "markdown",
   "metadata": {},
   "source": [
    "> 3. Pick a different tweet from @cassidyphoenyx and create a variable called `tweet` that holds the text of the tweet. Count the number of vowels (\"a\", \"e\", \"i\", \"o\", and \"u\") in the tweet. Hint: The tweet might have both upper and lower case vowels. So you can either count both the number of \"A\"'s and \"a\"'s or turn the entire string `lower()` before you `count()` as we did above."
   ]
  },
  {
   "cell_type": "code",
   "execution_count": null,
   "metadata": {},
   "outputs": [],
   "source": [
    "# Put your code here\n",
    "\n"
   ]
  },
  {
   "cell_type": "markdown",
   "metadata": {},
   "source": [
    "In addition to `print()` and `help()`, the funciton `len()` is a global and can be applied to many kinds of objects. It will tell you how many elements a list has or how many characters are in a string."
   ]
  },
  {
   "cell_type": "code",
   "execution_count": null,
   "metadata": {},
   "outputs": [],
   "source": [
    "tweet = \"They should learn to code\"\n",
    "\n",
    "print(len(tweet))"
   ]
  },
  {
   "cell_type": "markdown",
   "metadata": {},
   "source": [
    "So 25 characters.\n",
    "\n",
    "> 4. Now, pick a set of five tweets from the list of @cassidyphoenyx's tweets, store each in variables called `tweet1`, `tweet2` and so on. Then count the total number of characters used across these five tweets, applying `len()` to each and summing up the results."
   ]
  },
  {
   "cell_type": "code",
   "execution_count": null,
   "metadata": {},
   "outputs": [],
   "source": [
    "# Put your code here\n",
    "\n"
   ]
  },
  {
   "cell_type": "markdown",
   "metadata": {},
   "source": [
    "**Next, numbers.** Here we just want you to write out a little math. Do not spend more than 5 minutes on this question (after reading it, I mean).\n",
    "\n",
    "> 5. Together, these 15 tweets were favorited 10 times and retweeted 5 times. But the engagement was uneven -- Number 6 in the list above was favorited 5 times and retweeted 3 times. The rest of the tweets had at most one retweet or favorite. Compute a kind of engagement score for this group. Apply the same thing to @cassidyphoenyx's most recent 15 tweets. (This is really meant to have you do some arithmetic -- even just computing the total number of retweets divided by the total number of tweets is fine.)"
   ]
  },
  {
   "cell_type": "code",
   "execution_count": null,
   "metadata": {},
   "outputs": [],
   "source": [
    "# Put your code here\n",
    "\n"
   ]
  },
  {
   "cell_type": "markdown",
   "metadata": {},
   "source": [
    "**Booleans**. Last time we introduced another basic data type taking on just the values of `True` or `False`. There are times we want to decide if certain conditions are met, and if so take one action and otherwise take some other action. In this case, we might want to treat tweets differently if they mention other accounts, say, or check if they contain images and collect them.\n",
    "\n",
    "We are going to write two boolean expressions (returning `True` or `False`) that each do the same thing -- test whether the text of a tweet includes the hashtag \"#LearnToCode.\" There's always more than one way to do something and it's useful to think of the options. \n",
    "\n",
    "First, we are going to base our test on `count()`. It is a method of the string object and returns the number of times some pattern of text appers in a string. In this case, we will use the three tweets below (the first two from @DANEgerus and the last one from @KoightVampff) and check for \"#LearnToCode\"."
   ]
  },
  {
   "cell_type": "code",
   "execution_count": null,
   "metadata": {},
   "outputs": [],
   "source": [
    "tweet1 = \"Maybe Journalists should learn to mine coal... I remember journalists told a lot of coal miners run out of jobs by Obama Democrats to #LearnToCode\"\n",
    "tweet2 = \"#CodeAQuote \\nMy only regret is that I have but this code to give for my country...\\n#LearnToCode\"\n",
    "tweet3 = \"Just in: learn to code\"\n",
    "\n",
    "print(tweet1.count(\"#LearnToCode\"))\n",
    "print(tweet2.count(\"#LearnToCode\"))\n",
    "print(tweet3.count(\"#LearnToCode\"))"
   ]
  },
  {
   "cell_type": "markdown",
   "metadata": {},
   "source": [
    "We might want to get fancy and make lower case versions of the tweets first and check for \"#learntocode\" just in case people don't capitalize the hashtag in the same way. But it's only a suggestion.\n",
    "\n",
    "Remember we covered \"comparison\" operators like `>` or `<` or `==` (some number is larger than another, smaller than a number, or equals a number) that return `True` or `False`. So, below we test whether the number of characters in each tweet (measured by `len()` for length) is greater than 25."
   ]
  },
  {
   "cell_type": "code",
   "execution_count": null,
   "metadata": {},
   "outputs": [],
   "source": [
    "tweet1 = \"Maybe Journalists should learn to mine coal... I remember journalists told a lot of coal miners run out of jobs by Obama Democrats to #LearnToCode\"\n",
    "tweet2 = \"#CodeAQuote \\nMy only regret is that I have but this code to give for my country...\\n#LearnToCode\"\n",
    "tweet3 = \"Just in: learn to code\"\n",
    "\n",
    "print(len(tweet1) > 25)\n",
    "print(len(tweet2) > 25)\n",
    "print(len(tweet3) > 25)"
   ]
  },
  {
   "cell_type": "markdown",
   "metadata": {},
   "source": [
    "> 6. Now, use the examples above and come up with a logical expression using the `count()` method to test if the hashtag is in a tweet or not. To do this, think about what `count()` returns and what values does it need to return when the hashtag is present or not (and remember it might be in a tweet more than once. Write the expression below, testing it on the three tweets."
   ]
  },
  {
   "cell_type": "code",
   "execution_count": null,
   "metadata": {},
   "outputs": [],
   "source": [
    "tweet1 = \"Maybe Journalists should learn to mine coal... I remember journalists told a lot of coal miners run out of jobs by Obama Democrats to #LearnToCode\"\n",
    "tweet2 = \"#CodeAQuote \\nMy only regret is that I have but this code to give for my country...\\n#LearnToCode\"\n",
    "tweet3 = \"Just in: learn to code\"\n",
    "\n",
    "# your code here\n"
   ]
  },
  {
   "cell_type": "markdown",
   "metadata": {},
   "source": [
    "In addition to the \"comparison\" operators like `>` or `<` or `==` (some number is larger than another, smaller than a number, or equals a number), we also have membership operators like `in` that test if characters are `in` a string or some data is `in` a list. \n",
    "\n",
    "So, for example..."
   ]
  },
  {
   "cell_type": "code",
   "execution_count": null,
   "metadata": {},
   "outputs": [],
   "source": [
    "tweet1 = \"Maybe Journalists should learn to mine coal... I remember journalists told a lot of coal miners run out of jobs by Obama Democrats to #LearnToCode\"\n",
    "tweet2 = \"#CodeAQuote \\nMy only regret is that I have but this code to give for my country...\\n#LearnToCode\"\n",
    "tweet3 = \"Just in: learn to code\"\n",
    "\n",
    "print(\"coal\" in tweet1)\n",
    "print(\"coal\" in tweet2)"
   ]
  },
  {
   "cell_type": "markdown",
   "metadata": {},
   "source": [
    "> 7. Now use a logical operator that tests for \"membership\" to ask whether the hashtag is in each of the three tweets. Again use the three tweets we gave you for the test and make sure you're printing out a `True` or a `False`. "
   ]
  },
  {
   "cell_type": "code",
   "execution_count": null,
   "metadata": {},
   "outputs": [],
   "source": [
    "tweet1 = \"Maybe Journalists should learn to mine coal... I remember journalists told a lot of coal miners run out of jobs by Obama Democrats to #LearnToCode\"\n",
    "tweet2 = \"#CodeAQuote \\nMy only regret is that I have but this code to give for my country...\\n#LearnToCode\"\n",
    "tweet3 = \"Just in: learn to code\"\n",
    "\n",
    "# your code here\n",
    "\n"
   ]
  },
  {
   "cell_type": "markdown",
   "metadata": {},
   "source": [
    "> 8. Finally, write a boolean expression to test whether a tweet is nothing but the hashtag \"#LearnToCode\". (And again, you can be fancy and work with the `lower()` version of the tweet if you want and test for \"#learntocode\" as well as \"#LearnToCode\" or \"#LEARNTOCODE\" or any other arrangement of caps.)"
   ]
  },
  {
   "cell_type": "code",
   "execution_count": null,
   "metadata": {},
   "outputs": [],
   "source": [
    "# your code here\n",
    "\n"
   ]
  },
  {
   "cell_type": "markdown",
   "metadata": {},
   "source": [
    "**Next, let's work with lists.** Again, a list is a collection of data organized sequentially. We identified the top 10 tweeters that mentioned #LearnToCode or #Learn2Code or \"learn to code\" and created two lists -- one with account names and one with their associated follower counts. We bring these two lists into Python and check that they have the same number of elements by printing out their lengths using `len()`."
   ]
  },
  {
   "cell_type": "code",
   "execution_count": null,
   "metadata": {},
   "outputs": [],
   "source": [
    "names = [\"ham_gretsky\",\"Ashot_\",\"SherlockRobo\",\"_30days30sites\",\"AaronCuddeback\",\"wbmobile\",\"TheKratomCure\",\"jmdawson95\",\"KoightVampff\",\"craigbob99\",\"NoSQLDigest\",\"TheLinuxBot\",\"cassidyphoenyx\",\"_reactdev\",\"Bintata5\"]\n",
    "followers = [6823,4829,302,3741,6281,7263,237,1548,398,2056,21658,72,2724,2342,21]\n",
    "\n",
    "print(len(names))\n",
    "print(len(followers))"
   ]
  },
  {
   "cell_type": "markdown",
   "metadata": {},
   "source": [
    "> 9. Select and print the fifth name from `names` and their associated followers from `followers`. Remember that Python starts counting at 0, so the first element in the list has index 0, the second index 1 and so on. Print out the fifth of each list. "
   ]
  },
  {
   "cell_type": "code",
   "execution_count": null,
   "metadata": {},
   "outputs": [],
   "source": [
    "# your code here\n",
    "\n"
   ]
  },
  {
   "cell_type": "markdown",
   "metadata": {},
   "source": [
    "Recall that we can use a \"slice\" with the colon \":\" to select a range of items from a list. So `names[3:7]` gives you the elements in the list with index starting at 3 and going up to, but not including index 7. That means we pull the fourth, fifth, sixth and seventh account names.\n",
    "\n",
    "> 10. Select the eighth through the eleventh names and follower counts from our two lists."
   ]
  },
  {
   "cell_type": "code",
   "execution_count": null,
   "metadata": {},
   "outputs": [],
   "source": [
    "# your code here\n",
    "\n"
   ]
  },
  {
   "cell_type": "markdown",
   "metadata": {},
   "source": [
    "We didn't cover this in class. but for lists with numeric data, you can call mathematical functions like `sum()` and `mean()` and `max()` and `min()` to total up the list, find the mean of the values in the list, and find the largest and smallest values in the list, respectively. So `max(followers)` gives you the largest number of followers among our top 15 tweeters and `min(followers)` gives you the account with the least followers.\n",
    "\n",
    "> 12. If all of these people were to tweet, how many people would they reach? (Assume for the sake of simplicity that none of them share any followers in common so you can just add them up to get the total.)"
   ]
  },
  {
   "cell_type": "code",
   "execution_count": null,
   "metadata": {},
   "outputs": [],
   "source": [
    "# your code here\n",
    "\n"
   ]
  },
  {
   "cell_type": "markdown",
   "metadata": {},
   "source": [
    "> 12. Find the average number of followers for these 15 accounts in two ways. One using the simple function `mean()` and another using `sum()` and `len()`."
   ]
  },
  {
   "cell_type": "code",
   "execution_count": null,
   "metadata": {},
   "outputs": [],
   "source": [
    "# your code here\n",
    "\n"
   ]
  },
  {
   "cell_type": "markdown",
   "metadata": {},
   "source": [
    "> 13. Next, use the method `sort()` of a list object that we saw in class to sort the follower counts from smallest to largest. What's the biggest? The smallest? Check them with `min()` and `max()`."
   ]
  },
  {
   "cell_type": "code",
   "execution_count": null,
   "metadata": {},
   "outputs": [],
   "source": [
    "# your code here\n",
    "\n"
   ]
  },
  {
   "cell_type": "markdown",
   "metadata": {},
   "source": [
    "> 14. Using the last 10 tweets from @cassidyphoenyx, make a list of their retweet counts. So the list should have 10 elements, each an integer representing retweet count. Call the list `retweets`."
   ]
  },
  {
   "cell_type": "code",
   "execution_count": null,
   "metadata": {},
   "outputs": [],
   "source": [
    "# your code here\n",
    "\n"
   ]
  },
  {
   "cell_type": "markdown",
   "metadata": {},
   "source": [
    "**Back to strings for a second.** The \"slicing\" and subsetting we used for lists also work for strings. So for the string \"learn to code\" we can pull off single letters or groups."
   ]
  },
  {
   "cell_type": "code",
   "execution_count": null,
   "metadata": {},
   "outputs": [],
   "source": [
    "meme = \"learn to code\"\n",
    "\n",
    "# the eighth letter -- remember Python starts counting at 0\n",
    "print(meme[7])\n",
    "\n",
    "# letters 3 through eight\n",
    "print(meme[2:9])"
   ]
  },
  {
   "cell_type": "markdown",
   "metadata": {},
   "source": [
    "Recall that we can return a list from a string by `split()`ing on a character or string of characters. For example, we can split on a space \" \" to pull out something like all the words."
   ]
  },
  {
   "cell_type": "code",
   "execution_count": null,
   "metadata": {},
   "outputs": [],
   "source": [
    "tweet = \"It's important to zoom out. Learn to code.\"\n",
    "words = tweet.split(\" \")\n",
    "\n",
    "print(words)\n",
    "print(len(words))"
   ]
  },
  {
   "cell_type": "markdown",
   "metadata": {},
   "source": [
    "So we have a list of 8 words(ish). We have caps for the first word and \"out.\" and \"code.\" retain their punctuation. We might clean these up with the string method `replace()` to remove the periods and other punctuation first if we wanted.\n",
    "\n",
    "> 15. Choose one of the tweets from @cassidyphoenyx, assign it to the variable name `tweet`  and then count how many words it has using `split()` and `len()`. Again, this might not be the best way to pull out words because it will include things like \"out.\" and \"code.\" in the string above. As a bonus, clean up the string so this simple splitting works better."
   ]
  },
  {
   "cell_type": "code",
   "execution_count": null,
   "metadata": {},
   "outputs": [],
   "source": [
    "# your code here\n",
    "\n"
   ]
  },
  {
   "cell_type": "markdown",
   "metadata": {},
   "source": [
    "**Finally, dictionaries.** Remember that sometimes it's easier to store data by name than in sequence (as with a list). Here are the pieces of a tweet by Donald Trump Jr. that we looked at in class. It is stored as a *dictionary*."
   ]
  },
  {
   "cell_type": "code",
   "execution_count": null,
   "metadata": {},
   "outputs": [],
   "source": [
    "djt = {\n",
    "     \"created_at\":\"Mon Jan 28 18:50:14 +0000 2019\",\n",
    "     \"full_text\":\"Could someone explain to me why if I tell my kids to 'learn to code' it’s likely sound parenting, but if I told a journalist the same it’s grounds for a @twitter suspension?\",\n",
    "     \"id\":\"1089958848742518785\",\n",
    "     \"retweet_count\":7565,\n",
    "     \"favorite_count\":31098,\n",
    "     \"retweet\":False,\n",
    "     \"source\":\"Twitter for iPhone\"\n",
    "}\n",
    "  \n",
    "djt"
   ]
  },
  {
   "cell_type": "markdown",
   "metadata": {},
   "source": [
    "We create a dictionary by enclosing data with curly braces -- as opposed to the squre brackets we used to make a list. The data are \"key-value\" pairs -- the \"keys\" are used to index the data or \"values\". We access the data by name, by key. \n",
    "\n",
    "So that `djt[\"created_at\"]` is a string giving the date and time the tweet was posted and `djt[\"retweet\"]` is a boolean describing if the tweet is original or if it is a retweet."
   ]
  },
  {
   "cell_type": "code",
   "execution_count": null,
   "metadata": {},
   "outputs": [],
   "source": [
    "print(djt[\"created_at\"])\n",
    "print(djt[\"retweet\"])"
   ]
  },
  {
   "cell_type": "markdown",
   "metadata": {},
   "source": [
    "> 16. Sum up the `retweet_count` and the `favorite_count` from this single @DonaldJTrumpJr tweet. But just don't copy and paste the numbers and add them, use the keys `retweet_count` and `favorite_count` to access them from `djt` and add them."
   ]
  },
  {
   "cell_type": "code",
   "execution_count": null,
   "metadata": {},
   "outputs": [],
   "source": [
    "# your code here\n",
    "\n"
   ]
  },
  {
   "cell_type": "markdown",
   "metadata": {},
   "source": [
    "You can add new data to a dictionary by simply referencing a key you would like to store it under. Here we add the number of followers @DonaldJTrumpJr had when he tweeted about the \"learn to code\" meme. We use the key \"followers_count\"."
   ]
  },
  {
   "cell_type": "code",
   "execution_count": null,
   "metadata": {},
   "outputs": [],
   "source": [
    "djt[\"followers_count\"] = 3286021\n",
    "\n",
    "djt"
   ]
  },
  {
   "cell_type": "markdown",
   "metadata": {},
   "source": [
    "See, we added the new data into the dictionary. How would you remove data? Google?\n",
    "\n",
    "> 17. At the time of his tweet, @DonaldJTrumpJR was following 1277 people and had posted 25818 statuses to Twitter. Create the keys `friends_count` and `statuses_count` in `djt` and store these two numbers."
   ]
  },
  {
   "cell_type": "code",
   "execution_count": null,
   "metadata": {},
   "outputs": [],
   "source": [
    "# your code here\n",
    "\n"
   ]
  },
  {
   "cell_type": "markdown",
   "metadata": {},
   "source": [
    "We can see if a key is contained in the dictionary using the `in` membership operator -- it's pretty handy, right?"
   ]
  },
  {
   "cell_type": "code",
   "execution_count": null,
   "metadata": {},
   "outputs": [],
   "source": [
    "print(\"retweet_count\" in djt)\n",
    "\n",
    "print(\"replies_count\" in djt)"
   ]
  },
  {
   "cell_type": "markdown",
   "metadata": {},
   "source": [
    "> 18. Test to see if `created_at` is a key in `djt` and if so extract the string representing the time of the tweet. Store it in a variable called `tweet_time`."
   ]
  },
  {
   "cell_type": "code",
   "execution_count": null,
   "metadata": {},
   "outputs": [],
   "source": [
    "# Your code here\n",
    "\n"
   ]
  },
  {
   "cell_type": "markdown",
   "metadata": {},
   "source": [
    "> Bonus 1. Use the `tweet_time` string pull out just the piece representing the time (the hour:minute:second) of the tweet. You can do this by subsetting the string `tweet_time` with a slice (picking which character positions you want), or you can use the `split()` method to divide the string into a list of pieces and select the right piece by subsetting the list."
   ]
  },
  {
   "cell_type": "code",
   "execution_count": null,
   "metadata": {},
   "outputs": [],
   "source": [
    "# Your code here"
   ]
  },
  {
   "cell_type": "markdown",
   "metadata": {},
   "source": [
    "> Bonus 2. Store the time from above (the hour:minute:second) in a new string called `just_time`. Then pull out just the minutes field using subsetting or `split()` and store it in a string variable called `minutes`."
   ]
  },
  {
   "cell_type": "code",
   "execution_count": null,
   "metadata": {},
   "outputs": [],
   "source": [
    "# Your code here\n"
   ]
  },
  {
   "cell_type": "markdown",
   "metadata": {},
   "source": [
    "**For the dual degree and data students**\n",
    "\n",
    "I have stored about 100K tweets in JSON format (one line per tweet) in [a file stored on Dropbox.](https://www.dropbox.com/s/p3a5cyyvrgnw51c/learn.json?dl=0) Download it and start to investigate the meme and how it developed. \n",
    "\n",
    "> 1. In class we created a CSV that broke down tweet activity into 10 minute increments. Try to recreate this. Keep in mind that I transformed everything to NYC time so the plots were interpretable. \n",
    "\n",
    "> 2. One aspect of the story that was not covered was which journalists were targeted and how many times. There is a list in a tweet that contains the mentions. You could use this to aggregate the number of times each account was mentioned and then, perhaps by looking up the individuals' profiles, decide who is or is not a journalist (or just do the top 20 by hand). \n",
    "\n",
    "> 3. Identify who the important people are in this campaign and, via some reporting, see if any were suspended. There are hints about individuals but I have no idea how accurate those are.\n",
    "\n",
    "> 4. What else do you want to look at? Create a short pitch, send it along and then dig in!"
   ]
  }
 ],
 "metadata": {
  "anaconda-cloud": {},
  "kernelspec": {
   "display_name": "Python 3",
   "language": "python",
   "name": "python3"
  },
  "language_info": {
   "codemirror_mode": {
    "name": "ipython",
    "version": 3
   },
   "file_extension": ".py",
   "mimetype": "text/x-python",
   "name": "python",
   "nbconvert_exporter": "python",
   "pygments_lexer": "ipython3",
   "version": "3.7.1"
  }
 },
 "nbformat": 4,
 "nbformat_minor": 1
}
